{
 "cells": [
  {
   "cell_type": "markdown",
   "metadata": {},
   "source": [
    "# Exploratory Analysis: Week 1-3\n",
    "### The goal of this notebook is to have a thorough view of our dataset before building any models. \n",
    "### Our dataset can be found here: https://www.kaggle.com/snap/amazon-fine-food-reviews\n",
    "### Order:\n",
    "1. General, descriptive statistics.\n",
    "2. Visualizations/Correlation Matrix.\n",
    "3. Getting rid of duplicates.\n",
    "4. Word clouds.\n",
    "5. \n"
   ]
  },
  {
   "cell_type": "markdown",
   "metadata": {},
   "source": [
    "### Descriptive Statistics\n",
    "Let us start by importing the toolkits we will need"
   ]
  },
  {
   "cell_type": "code",
   "execution_count": 1,
   "metadata": {
    "scrolled": true
   },
   "outputs": [
    {
     "name": "stdout",
     "output_type": "stream",
     "text": [
      "Requirement already satisfied: pandas in /Users/nicolasdecavel/opt/anaconda3/lib/python3.7/site-packages (0.25.1)\n",
      "Requirement already satisfied: pytz>=2017.2 in /Users/nicolasdecavel/opt/anaconda3/lib/python3.7/site-packages (from pandas) (2019.3)\n",
      "Requirement already satisfied: python-dateutil>=2.6.1 in /Users/nicolasdecavel/opt/anaconda3/lib/python3.7/site-packages (from pandas) (2.8.0)\n",
      "Requirement already satisfied: numpy>=1.13.3 in /Users/nicolasdecavel/opt/anaconda3/lib/python3.7/site-packages (from pandas) (1.17.2)\n",
      "Requirement already satisfied: six>=1.5 in /Users/nicolasdecavel/opt/anaconda3/lib/python3.7/site-packages (from python-dateutil>=2.6.1->pandas) (1.12.0)\n",
      "\u001b[31mERROR: Could not find a version that satisfies the requirement matplotlib.pyplot (from versions: none)\u001b[0m\n",
      "\u001b[31mERROR: No matching distribution found for matplotlib.pyplot\u001b[0m\n",
      "Requirement already satisfied: seaborn in /Users/nicolasdecavel/opt/anaconda3/lib/python3.7/site-packages (0.9.0)\n",
      "Requirement already satisfied: numpy>=1.9.3 in /Users/nicolasdecavel/opt/anaconda3/lib/python3.7/site-packages (from seaborn) (1.17.2)\n",
      "Requirement already satisfied: scipy>=0.14.0 in /Users/nicolasdecavel/opt/anaconda3/lib/python3.7/site-packages (from seaborn) (1.4.1)\n",
      "Requirement already satisfied: matplotlib>=1.4.3 in /Users/nicolasdecavel/opt/anaconda3/lib/python3.7/site-packages (from seaborn) (3.1.3)\n",
      "Requirement already satisfied: pandas>=0.15.2 in /Users/nicolasdecavel/opt/anaconda3/lib/python3.7/site-packages (from seaborn) (0.25.1)\n",
      "Requirement already satisfied: python-dateutil>=2.1 in /Users/nicolasdecavel/opt/anaconda3/lib/python3.7/site-packages (from matplotlib>=1.4.3->seaborn) (2.8.0)\n",
      "Requirement already satisfied: pyparsing!=2.0.4,!=2.1.2,!=2.1.6,>=2.0.1 in /Users/nicolasdecavel/opt/anaconda3/lib/python3.7/site-packages (from matplotlib>=1.4.3->seaborn) (2.4.2)\n",
      "Requirement already satisfied: cycler>=0.10 in /Users/nicolasdecavel/opt/anaconda3/lib/python3.7/site-packages (from matplotlib>=1.4.3->seaborn) (0.10.0)\n",
      "Requirement already satisfied: kiwisolver>=1.0.1 in /Users/nicolasdecavel/opt/anaconda3/lib/python3.7/site-packages (from matplotlib>=1.4.3->seaborn) (1.1.0)\n",
      "Requirement already satisfied: pytz>=2017.2 in /Users/nicolasdecavel/opt/anaconda3/lib/python3.7/site-packages (from pandas>=0.15.2->seaborn) (2019.3)\n",
      "Requirement already satisfied: six>=1.5 in /Users/nicolasdecavel/opt/anaconda3/lib/python3.7/site-packages (from python-dateutil>=2.1->matplotlib>=1.4.3->seaborn) (1.12.0)\n",
      "Requirement already satisfied: setuptools in /Users/nicolasdecavel/opt/anaconda3/lib/python3.7/site-packages (from kiwisolver>=1.0.1->matplotlib>=1.4.3->seaborn) (41.4.0)\n",
      "Requirement already satisfied: Pillow in /Users/nicolasdecavel/opt/anaconda3/lib/python3.7/site-packages (6.2.0)\n",
      "Requirement already satisfied: wordcloud in /Users/nicolasdecavel/.local/lib/python3.7/site-packages (1.6.0)\n",
      "Requirement already satisfied: pillow in /Users/nicolasdecavel/opt/anaconda3/lib/python3.7/site-packages (from wordcloud) (6.2.0)\n",
      "Requirement already satisfied: matplotlib in /Users/nicolasdecavel/opt/anaconda3/lib/python3.7/site-packages (from wordcloud) (3.1.3)\n",
      "Requirement already satisfied: numpy>=1.6.1 in /Users/nicolasdecavel/opt/anaconda3/lib/python3.7/site-packages (from wordcloud) (1.17.2)\n",
      "Requirement already satisfied: kiwisolver>=1.0.1 in /Users/nicolasdecavel/opt/anaconda3/lib/python3.7/site-packages (from matplotlib->wordcloud) (1.1.0)\n",
      "Requirement already satisfied: python-dateutil>=2.1 in /Users/nicolasdecavel/opt/anaconda3/lib/python3.7/site-packages (from matplotlib->wordcloud) (2.8.0)\n",
      "Requirement already satisfied: pyparsing!=2.0.4,!=2.1.2,!=2.1.6,>=2.0.1 in /Users/nicolasdecavel/opt/anaconda3/lib/python3.7/site-packages (from matplotlib->wordcloud) (2.4.2)\n",
      "Requirement already satisfied: cycler>=0.10 in /Users/nicolasdecavel/opt/anaconda3/lib/python3.7/site-packages (from matplotlib->wordcloud) (0.10.0)\n",
      "Requirement already satisfied: setuptools in /Users/nicolasdecavel/opt/anaconda3/lib/python3.7/site-packages (from kiwisolver>=1.0.1->matplotlib->wordcloud) (41.4.0)\n",
      "Requirement already satisfied: six>=1.5 in /Users/nicolasdecavel/opt/anaconda3/lib/python3.7/site-packages (from python-dateutil>=2.1->matplotlib->wordcloud) (1.12.0)\n",
      "Requirement already satisfied: nltk in /Users/nicolasdecavel/opt/anaconda3/lib/python3.7/site-packages (3.4.5)\n",
      "Requirement already satisfied: six in /Users/nicolasdecavel/opt/anaconda3/lib/python3.7/site-packages (from nltk) (1.12.0)\n",
      "Requirement already up-to-date: scikit-learn in /Users/nicolasdecavel/opt/anaconda3/lib/python3.7/site-packages (0.22.1)\n",
      "Requirement already satisfied, skipping upgrade: joblib>=0.11 in /Users/nicolasdecavel/opt/anaconda3/lib/python3.7/site-packages (from scikit-learn) (0.13.2)\n",
      "Requirement already satisfied, skipping upgrade: numpy>=1.11.0 in /Users/nicolasdecavel/opt/anaconda3/lib/python3.7/site-packages (from scikit-learn) (1.17.2)\n",
      "Requirement already satisfied, skipping upgrade: scipy>=0.17.0 in /Users/nicolasdecavel/opt/anaconda3/lib/python3.7/site-packages (from scikit-learn) (1.4.1)\n"
     ]
    }
   ],
   "source": [
    "# !pip3 install pandas --user\n",
    "# !pip3 install matplotlib.pyplot --user\n",
    "# !pip3 install seaborn --user\n",
    "# !pip3 install Pillow --user\n",
    "# !pip3 install wordcloud --user\n",
    "# !pip3 install nltk --user\n",
    "# !pip install -U scikit-learn"
   ]
  },
  {
   "cell_type": "code",
   "execution_count": 2,
   "metadata": {},
   "outputs": [
    {
     "name": "stdout",
     "output_type": "stream",
     "text": [
      "Python 3.7.4\r\n"
     ]
    }
   ],
   "source": [
    "# !python --version"
   ]
  },
  {
   "cell_type": "code",
   "execution_count": 3,
   "metadata": {},
   "outputs": [],
   "source": [
    "# !cd /Library/Python\n",
    "# !brew install python"
   ]
  },
  {
   "cell_type": "code",
   "execution_count": 4,
   "metadata": {},
   "outputs": [
    {
     "name": "stdout",
     "output_type": "stream",
     "text": [
      "\u001b[34m2.6\u001b[m\u001b[m \u001b[34m2.7\u001b[m\u001b[m\r\n"
     ]
    }
   ],
   "source": [
    "# !ls /Library/Python"
   ]
  },
  {
   "cell_type": "code",
   "execution_count": 4,
   "metadata": {},
   "outputs": [],
   "source": [
    "# Lets start by importing everything we think we might need\n",
    "import numpy as np\n",
    "import pandas as pd\n",
    "import matplotlib.pyplot as plt\n",
    "import seaborn as sns\n",
    "#WORD CLOUD\n",
    "from wordcloud import WordCloud, STOPWORDS, ImageColorGenerator\n",
    "from PIL import Image\n",
    "import re\n",
    "#\n",
    "import nltk\n",
    "from sklearn import tree"
   ]
  },
  {
   "cell_type": "code",
   "execution_count": 5,
   "metadata": {},
   "outputs": [
    {
     "data": {
      "text/html": [
       "<div>\n",
       "<style scoped>\n",
       "    .dataframe tbody tr th:only-of-type {\n",
       "        vertical-align: middle;\n",
       "    }\n",
       "\n",
       "    .dataframe tbody tr th {\n",
       "        vertical-align: top;\n",
       "    }\n",
       "\n",
       "    .dataframe thead th {\n",
       "        text-align: right;\n",
       "    }\n",
       "</style>\n",
       "<table border=\"1\" class=\"dataframe\">\n",
       "  <thead>\n",
       "    <tr style=\"text-align: right;\">\n",
       "      <th></th>\n",
       "      <th>Id</th>\n",
       "      <th>ProductId</th>\n",
       "      <th>UserId</th>\n",
       "      <th>ProfileName</th>\n",
       "      <th>HelpfulnessNumerator</th>\n",
       "      <th>HelpfulnessDenominator</th>\n",
       "      <th>Score</th>\n",
       "      <th>Time</th>\n",
       "      <th>Summary</th>\n",
       "      <th>Text</th>\n",
       "    </tr>\n",
       "  </thead>\n",
       "  <tbody>\n",
       "    <tr>\n",
       "      <th>0</th>\n",
       "      <td>1</td>\n",
       "      <td>B001E4KFG0</td>\n",
       "      <td>A3SGXH7AUHU8GW</td>\n",
       "      <td>delmartian</td>\n",
       "      <td>1</td>\n",
       "      <td>1</td>\n",
       "      <td>5</td>\n",
       "      <td>1303862400</td>\n",
       "      <td>Good Quality Dog Food</td>\n",
       "      <td>I have bought several of the Vitality canned d...</td>\n",
       "    </tr>\n",
       "    <tr>\n",
       "      <th>1</th>\n",
       "      <td>2</td>\n",
       "      <td>B00813GRG4</td>\n",
       "      <td>A1D87F6ZCVE5NK</td>\n",
       "      <td>dll pa</td>\n",
       "      <td>0</td>\n",
       "      <td>0</td>\n",
       "      <td>1</td>\n",
       "      <td>1346976000</td>\n",
       "      <td>Not as Advertised</td>\n",
       "      <td>Product arrived labeled as Jumbo Salted Peanut...</td>\n",
       "    </tr>\n",
       "    <tr>\n",
       "      <th>2</th>\n",
       "      <td>3</td>\n",
       "      <td>B000LQOCH0</td>\n",
       "      <td>ABXLMWJIXXAIN</td>\n",
       "      <td>Natalia Corres \"Natalia Corres\"</td>\n",
       "      <td>1</td>\n",
       "      <td>1</td>\n",
       "      <td>4</td>\n",
       "      <td>1219017600</td>\n",
       "      <td>\"Delight\" says it all</td>\n",
       "      <td>This is a confection that has been around a fe...</td>\n",
       "    </tr>\n",
       "    <tr>\n",
       "      <th>3</th>\n",
       "      <td>4</td>\n",
       "      <td>B000UA0QIQ</td>\n",
       "      <td>A395BORC6FGVXV</td>\n",
       "      <td>Karl</td>\n",
       "      <td>3</td>\n",
       "      <td>3</td>\n",
       "      <td>2</td>\n",
       "      <td>1307923200</td>\n",
       "      <td>Cough Medicine</td>\n",
       "      <td>If you are looking for the secret ingredient i...</td>\n",
       "    </tr>\n",
       "    <tr>\n",
       "      <th>4</th>\n",
       "      <td>5</td>\n",
       "      <td>B006K2ZZ7K</td>\n",
       "      <td>A1UQRSCLF8GW1T</td>\n",
       "      <td>Michael D. Bigham \"M. Wassir\"</td>\n",
       "      <td>0</td>\n",
       "      <td>0</td>\n",
       "      <td>5</td>\n",
       "      <td>1350777600</td>\n",
       "      <td>Great taffy</td>\n",
       "      <td>Great taffy at a great price.  There was a wid...</td>\n",
       "    </tr>\n",
       "  </tbody>\n",
       "</table>\n",
       "</div>"
      ],
      "text/plain": [
       "   Id   ProductId          UserId                      ProfileName  \\\n",
       "0   1  B001E4KFG0  A3SGXH7AUHU8GW                       delmartian   \n",
       "1   2  B00813GRG4  A1D87F6ZCVE5NK                           dll pa   \n",
       "2   3  B000LQOCH0   ABXLMWJIXXAIN  Natalia Corres \"Natalia Corres\"   \n",
       "3   4  B000UA0QIQ  A395BORC6FGVXV                             Karl   \n",
       "4   5  B006K2ZZ7K  A1UQRSCLF8GW1T    Michael D. Bigham \"M. Wassir\"   \n",
       "\n",
       "   HelpfulnessNumerator  HelpfulnessDenominator  Score        Time  \\\n",
       "0                     1                       1      5  1303862400   \n",
       "1                     0                       0      1  1346976000   \n",
       "2                     1                       1      4  1219017600   \n",
       "3                     3                       3      2  1307923200   \n",
       "4                     0                       0      5  1350777600   \n",
       "\n",
       "                 Summary                                               Text  \n",
       "0  Good Quality Dog Food  I have bought several of the Vitality canned d...  \n",
       "1      Not as Advertised  Product arrived labeled as Jumbo Salted Peanut...  \n",
       "2  \"Delight\" says it all  This is a confection that has been around a fe...  \n",
       "3         Cough Medicine  If you are looking for the secret ingredient i...  \n",
       "4            Great taffy  Great taffy at a great price.  There was a wid...  "
      ]
     },
     "execution_count": 5,
     "metadata": {},
     "output_type": "execute_result"
    }
   ],
   "source": [
    "# Extract the csv and look at the first 5 entries\n",
    "reviews = pd.read_csv(\"../amazon-fine-food-reviews/Reviews.csv\")\n",
    "reviews.head(5)"
   ]
  },
  {
   "cell_type": "code",
   "execution_count": 6,
   "metadata": {},
   "outputs": [
    {
     "data": {
      "text/html": [
       "<div>\n",
       "<style scoped>\n",
       "    .dataframe tbody tr th:only-of-type {\n",
       "        vertical-align: middle;\n",
       "    }\n",
       "\n",
       "    .dataframe tbody tr th {\n",
       "        vertical-align: top;\n",
       "    }\n",
       "\n",
       "    .dataframe thead th {\n",
       "        text-align: right;\n",
       "    }\n",
       "</style>\n",
       "<table border=\"1\" class=\"dataframe\">\n",
       "  <thead>\n",
       "    <tr style=\"text-align: right;\">\n",
       "      <th></th>\n",
       "      <th>Id</th>\n",
       "      <th>HelpfulnessNumerator</th>\n",
       "      <th>HelpfulnessDenominator</th>\n",
       "      <th>Score</th>\n",
       "      <th>Time</th>\n",
       "    </tr>\n",
       "  </thead>\n",
       "  <tbody>\n",
       "    <tr>\n",
       "      <th>count</th>\n",
       "      <td>568454.000000</td>\n",
       "      <td>568454.000000</td>\n",
       "      <td>568454.00000</td>\n",
       "      <td>568454.000000</td>\n",
       "      <td>5.684540e+05</td>\n",
       "    </tr>\n",
       "    <tr>\n",
       "      <th>mean</th>\n",
       "      <td>284227.500000</td>\n",
       "      <td>1.743817</td>\n",
       "      <td>2.22881</td>\n",
       "      <td>4.183199</td>\n",
       "      <td>1.296257e+09</td>\n",
       "    </tr>\n",
       "    <tr>\n",
       "      <th>std</th>\n",
       "      <td>164098.679298</td>\n",
       "      <td>7.636513</td>\n",
       "      <td>8.28974</td>\n",
       "      <td>1.310436</td>\n",
       "      <td>4.804331e+07</td>\n",
       "    </tr>\n",
       "    <tr>\n",
       "      <th>min</th>\n",
       "      <td>1.000000</td>\n",
       "      <td>0.000000</td>\n",
       "      <td>0.00000</td>\n",
       "      <td>1.000000</td>\n",
       "      <td>9.393408e+08</td>\n",
       "    </tr>\n",
       "    <tr>\n",
       "      <th>25%</th>\n",
       "      <td>142114.250000</td>\n",
       "      <td>0.000000</td>\n",
       "      <td>0.00000</td>\n",
       "      <td>4.000000</td>\n",
       "      <td>1.271290e+09</td>\n",
       "    </tr>\n",
       "    <tr>\n",
       "      <th>50%</th>\n",
       "      <td>284227.500000</td>\n",
       "      <td>0.000000</td>\n",
       "      <td>1.00000</td>\n",
       "      <td>5.000000</td>\n",
       "      <td>1.311120e+09</td>\n",
       "    </tr>\n",
       "    <tr>\n",
       "      <th>75%</th>\n",
       "      <td>426340.750000</td>\n",
       "      <td>2.000000</td>\n",
       "      <td>2.00000</td>\n",
       "      <td>5.000000</td>\n",
       "      <td>1.332720e+09</td>\n",
       "    </tr>\n",
       "    <tr>\n",
       "      <th>max</th>\n",
       "      <td>568454.000000</td>\n",
       "      <td>866.000000</td>\n",
       "      <td>923.00000</td>\n",
       "      <td>5.000000</td>\n",
       "      <td>1.351210e+09</td>\n",
       "    </tr>\n",
       "  </tbody>\n",
       "</table>\n",
       "</div>"
      ],
      "text/plain": [
       "                  Id  HelpfulnessNumerator  HelpfulnessDenominator  \\\n",
       "count  568454.000000         568454.000000            568454.00000   \n",
       "mean   284227.500000              1.743817                 2.22881   \n",
       "std    164098.679298              7.636513                 8.28974   \n",
       "min         1.000000              0.000000                 0.00000   \n",
       "25%    142114.250000              0.000000                 0.00000   \n",
       "50%    284227.500000              0.000000                 1.00000   \n",
       "75%    426340.750000              2.000000                 2.00000   \n",
       "max    568454.000000            866.000000               923.00000   \n",
       "\n",
       "               Score          Time  \n",
       "count  568454.000000  5.684540e+05  \n",
       "mean        4.183199  1.296257e+09  \n",
       "std         1.310436  4.804331e+07  \n",
       "min         1.000000  9.393408e+08  \n",
       "25%         4.000000  1.271290e+09  \n",
       "50%         5.000000  1.311120e+09  \n",
       "75%         5.000000  1.332720e+09  \n",
       "max         5.000000  1.351210e+09  "
      ]
     },
     "execution_count": 6,
     "metadata": {},
     "output_type": "execute_result"
    }
   ],
   "source": [
    "# Check out descriptive statistics and general column info\n",
    "reviews.describe()"
   ]
  },
  {
   "cell_type": "code",
   "execution_count": 7,
   "metadata": {},
   "outputs": [
    {
     "name": "stdout",
     "output_type": "stream",
     "text": [
      "<class 'pandas.core.frame.DataFrame'>\n",
      "RangeIndex: 568454 entries, 0 to 568453\n",
      "Data columns (total 10 columns):\n",
      " #   Column                  Non-Null Count   Dtype \n",
      "---  ------                  --------------   ----- \n",
      " 0   Id                      568454 non-null  int64 \n",
      " 1   ProductId               568454 non-null  object\n",
      " 2   UserId                  568454 non-null  object\n",
      " 3   ProfileName             568438 non-null  object\n",
      " 4   HelpfulnessNumerator    568454 non-null  int64 \n",
      " 5   HelpfulnessDenominator  568454 non-null  int64 \n",
      " 6   Score                   568454 non-null  int64 \n",
      " 7   Time                    568454 non-null  int64 \n",
      " 8   Summary                 568427 non-null  object\n",
      " 9   Text                    568454 non-null  object\n",
      "dtypes: int64(5), object(5)\n",
      "memory usage: 43.4+ MB\n"
     ]
    }
   ],
   "source": [
    "reviews.info()"
   ]
  },
  {
   "cell_type": "code",
   "execution_count": 8,
   "metadata": {},
   "outputs": [
    {
     "data": {
      "text/plain": [
       "Id                         0\n",
       "ProductId                  0\n",
       "UserId                     0\n",
       "ProfileName               16\n",
       "HelpfulnessNumerator       0\n",
       "HelpfulnessDenominator     0\n",
       "Score                      0\n",
       "Time                       0\n",
       "Summary                   27\n",
       "Text                       0\n",
       "dtype: int64"
      ]
     },
     "execution_count": 8,
     "metadata": {},
     "output_type": "execute_result"
    }
   ],
   "source": [
    "reviews.isnull().sum()"
   ]
  },
  {
   "cell_type": "markdown",
   "metadata": {},
   "source": [
    "Although we have a few null values, it is not pertinent to remove them at this time. "
   ]
  },
  {
   "cell_type": "code",
   "execution_count": 9,
   "metadata": {},
   "outputs": [
    {
     "data": {
      "text/plain": [
       "Id                        568454\n",
       "ProductId                  74258\n",
       "UserId                    256059\n",
       "ProfileName               218416\n",
       "HelpfulnessNumerator         231\n",
       "HelpfulnessDenominator       234\n",
       "Score                          5\n",
       "Time                        3168\n",
       "Summary                   295742\n",
       "Text                      393579\n",
       "dtype: int64"
      ]
     },
     "execution_count": 9,
     "metadata": {},
     "output_type": "execute_result"
    }
   ],
   "source": [
    "reviews.nunique()"
   ]
  },
  {
   "cell_type": "markdown",
   "metadata": {},
   "source": [
    "### First Look at Data:\n",
    "1. ID: Every review has a unique ID, giving us a total count of **568,454** reviews. This is an int.\n",
    "2. ProductID: There are **74,258** unique products. The productID is a string that includes capital letters and nums.\n",
    "3. UserID: There are a total of **256,059** user. This column is a string that includes capital letters and numbers.\n",
    "4. ProfileName: There are **16** instances with **NaN** ProfileNames, leaving us with **218,416** unique profiles. This is a string that the user creates.\n",
    "5. HelpfulnessNumerator: Int that represents how many people found the review helpful.\n",
    "6. HelpfulnessDenominator: Int that represents how many people didn't find the review helpful.\n",
    "7. Score: Review from 1-5 (1: Poor, 5: Excellent)\n",
    "8. Summary: String that represents the subject line of their review. **27 null cells**.\n",
    "9. Text: Contains full review text, although the display will show an \"...\" to represent that it doesn't show the entire text."
   ]
  },
  {
   "cell_type": "markdown",
   "metadata": {},
   "source": [
    "### To begin our visualizations, I would like to first look more into the relationship each review has with time submission.\n",
    "- Note, my interest stems with the initial viewing seeming to only include 5 pm and 4 pm."
   ]
  },
  {
   "cell_type": "code",
   "execution_count": 10,
   "metadata": {},
   "outputs": [],
   "source": [
    "import datetime\n",
    "reviews['Time'] = reviews['Time'].apply(datetime.datetime.fromtimestamp)"
   ]
  },
  {
   "cell_type": "code",
   "execution_count": 11,
   "metadata": {},
   "outputs": [
    {
     "data": {
      "text/html": [
       "<div>\n",
       "<style scoped>\n",
       "    .dataframe tbody tr th:only-of-type {\n",
       "        vertical-align: middle;\n",
       "    }\n",
       "\n",
       "    .dataframe tbody tr th {\n",
       "        vertical-align: top;\n",
       "    }\n",
       "\n",
       "    .dataframe thead th {\n",
       "        text-align: right;\n",
       "    }\n",
       "</style>\n",
       "<table border=\"1\" class=\"dataframe\">\n",
       "  <thead>\n",
       "    <tr style=\"text-align: right;\">\n",
       "      <th></th>\n",
       "      <th>Id</th>\n",
       "      <th>ProductId</th>\n",
       "      <th>UserId</th>\n",
       "      <th>ProfileName</th>\n",
       "      <th>HelpfulnessNumerator</th>\n",
       "      <th>HelpfulnessDenominator</th>\n",
       "      <th>Score</th>\n",
       "      <th>Time</th>\n",
       "      <th>Summary</th>\n",
       "      <th>Text</th>\n",
       "    </tr>\n",
       "  </thead>\n",
       "  <tbody>\n",
       "    <tr>\n",
       "      <th>0</th>\n",
       "      <td>1</td>\n",
       "      <td>B001E4KFG0</td>\n",
       "      <td>A3SGXH7AUHU8GW</td>\n",
       "      <td>delmartian</td>\n",
       "      <td>1</td>\n",
       "      <td>1</td>\n",
       "      <td>5</td>\n",
       "      <td>2011-04-26 17:00:00</td>\n",
       "      <td>Good Quality Dog Food</td>\n",
       "      <td>I have bought several of the Vitality canned d...</td>\n",
       "    </tr>\n",
       "    <tr>\n",
       "      <th>1</th>\n",
       "      <td>2</td>\n",
       "      <td>B00813GRG4</td>\n",
       "      <td>A1D87F6ZCVE5NK</td>\n",
       "      <td>dll pa</td>\n",
       "      <td>0</td>\n",
       "      <td>0</td>\n",
       "      <td>1</td>\n",
       "      <td>2012-09-06 17:00:00</td>\n",
       "      <td>Not as Advertised</td>\n",
       "      <td>Product arrived labeled as Jumbo Salted Peanut...</td>\n",
       "    </tr>\n",
       "    <tr>\n",
       "      <th>2</th>\n",
       "      <td>3</td>\n",
       "      <td>B000LQOCH0</td>\n",
       "      <td>ABXLMWJIXXAIN</td>\n",
       "      <td>Natalia Corres \"Natalia Corres\"</td>\n",
       "      <td>1</td>\n",
       "      <td>1</td>\n",
       "      <td>4</td>\n",
       "      <td>2008-08-17 17:00:00</td>\n",
       "      <td>\"Delight\" says it all</td>\n",
       "      <td>This is a confection that has been around a fe...</td>\n",
       "    </tr>\n",
       "  </tbody>\n",
       "</table>\n",
       "</div>"
      ],
      "text/plain": [
       "   Id   ProductId          UserId                      ProfileName  \\\n",
       "0   1  B001E4KFG0  A3SGXH7AUHU8GW                       delmartian   \n",
       "1   2  B00813GRG4  A1D87F6ZCVE5NK                           dll pa   \n",
       "2   3  B000LQOCH0   ABXLMWJIXXAIN  Natalia Corres \"Natalia Corres\"   \n",
       "\n",
       "   HelpfulnessNumerator  HelpfulnessDenominator  Score                Time  \\\n",
       "0                     1                       1      5 2011-04-26 17:00:00   \n",
       "1                     0                       0      1 2012-09-06 17:00:00   \n",
       "2                     1                       1      4 2008-08-17 17:00:00   \n",
       "\n",
       "                 Summary                                               Text  \n",
       "0  Good Quality Dog Food  I have bought several of the Vitality canned d...  \n",
       "1      Not as Advertised  Product arrived labeled as Jumbo Salted Peanut...  \n",
       "2  \"Delight\" says it all  This is a confection that has been around a fe...  "
      ]
     },
     "execution_count": 11,
     "metadata": {},
     "output_type": "execute_result"
    }
   ],
   "source": [
    "reviews.head(3)"
   ]
  },
  {
   "cell_type": "code",
   "execution_count": 12,
   "metadata": {},
   "outputs": [],
   "source": [
    "# On first glance, it looks like the Time stamp varies between 5 pm and 4 pm. Let's visualize\n",
    "reviews['Hour'] = reviews['Time'].apply(lambda x: x.hour)\n",
    "reviews['Weekday'] = reviews['Time'].apply(lambda x: x.dayofweek)\n",
    "reviews['Day'] = reviews['Time'].apply(lambda x: x.dayofyear)\n",
    "reviews['Year'] = reviews['Time'].apply(lambda x: x.year)"
   ]
  },
  {
   "cell_type": "code",
   "execution_count": 13,
   "metadata": {},
   "outputs": [
    {
     "data": {
      "text/plain": [
       "(array([185934.,      0.,      0.,      0.,      0.,      0.,      0.,\n",
       "             0.,      0., 382520.]),\n",
       " array([16. , 16.1, 16.2, 16.3, 16.4, 16.5, 16.6, 16.7, 16.8, 16.9, 17. ]),\n",
       " <a list of 10 Patch objects>)"
      ]
     },
     "execution_count": 13,
     "metadata": {},
     "output_type": "execute_result"
    },
    {
     "data": {
      "image/png": "[encoded data removed]",
      "text/plain": [
       "<Figure size 432x288 with 1 Axes>"
      ]
     },
     "metadata": {
      "needs_background": "light"
     },
     "output_type": "display_data"
    }
   ],
   "source": [
    "plt.hist(reviews['Hour'])"
   ]
  },
  {
   "cell_type": "code",
   "execution_count": 14,
   "metadata": {},
   "outputs": [
    {
     "data": {
      "text/plain": [
       "(array([3.8000e+01, 1.3000e+01, 7.3000e+01, 6.9300e+02, 1.3440e+03,\n",
       "        6.6860e+03, 5.6502e+04, 5.5403e+04, 8.6092e+04, 3.6161e+05]),\n",
       " array([1999. , 2000.3, 2001.6, 2002.9, 2004.2, 2005.5, 2006.8, 2008.1,\n",
       "        2009.4, 2010.7, 2012. ]),\n",
       " <a list of 10 Patch objects>)"
      ]
     },
     "execution_count": 14,
     "metadata": {},
     "output_type": "execute_result"
    },
    {
     "data": {
      "image/png": "[encoded data removed]",
      "text/plain": [
       "<Figure size 432x288 with 1 Axes>"
      ]
     },
     "metadata": {
      "needs_background": "light"
     },
     "output_type": "display_data"
    }
   ],
   "source": [
    "plt.hist(reviews['Year'])"
   ]
  },
  {
   "cell_type": "code",
   "execution_count": 15,
   "metadata": {},
   "outputs": [
    {
     "data": {
      "text/html": [
       "<div>\n",
       "<style scoped>\n",
       "    .dataframe tbody tr th:only-of-type {\n",
       "        vertical-align: middle;\n",
       "    }\n",
       "\n",
       "    .dataframe tbody tr th {\n",
       "        vertical-align: top;\n",
       "    }\n",
       "\n",
       "    .dataframe thead th {\n",
       "        text-align: right;\n",
       "    }\n",
       "</style>\n",
       "<table border=\"1\" class=\"dataframe\">\n",
       "  <thead>\n",
       "    <tr style=\"text-align: right;\">\n",
       "      <th></th>\n",
       "      <th>Id</th>\n",
       "      <th>ProductId</th>\n",
       "      <th>UserId</th>\n",
       "      <th>ProfileName</th>\n",
       "      <th>HelpfulnessNumerator</th>\n",
       "      <th>HelpfulnessDenominator</th>\n",
       "      <th>Score</th>\n",
       "      <th>Time</th>\n",
       "      <th>Summary</th>\n",
       "      <th>Text</th>\n",
       "      <th>Hour</th>\n",
       "      <th>Weekday</th>\n",
       "      <th>Day</th>\n",
       "      <th>Year</th>\n",
       "    </tr>\n",
       "  </thead>\n",
       "  <tbody>\n",
       "    <tr>\n",
       "      <th>0</th>\n",
       "      <td>1</td>\n",
       "      <td>B001E4KFG0</td>\n",
       "      <td>A3SGXH7AUHU8GW</td>\n",
       "      <td>delmartian</td>\n",
       "      <td>1</td>\n",
       "      <td>1</td>\n",
       "      <td>5</td>\n",
       "      <td>2011-04-26 17:00:00</td>\n",
       "      <td>Good Quality Dog Food</td>\n",
       "      <td>I have bought several of the Vitality canned d...</td>\n",
       "      <td>17</td>\n",
       "      <td>1</td>\n",
       "      <td>116</td>\n",
       "      <td>2011</td>\n",
       "    </tr>\n",
       "    <tr>\n",
       "      <th>1</th>\n",
       "      <td>2</td>\n",
       "      <td>B00813GRG4</td>\n",
       "      <td>A1D87F6ZCVE5NK</td>\n",
       "      <td>dll pa</td>\n",
       "      <td>0</td>\n",
       "      <td>0</td>\n",
       "      <td>1</td>\n",
       "      <td>2012-09-06 17:00:00</td>\n",
       "      <td>Not as Advertised</td>\n",
       "      <td>Product arrived labeled as Jumbo Salted Peanut...</td>\n",
       "      <td>17</td>\n",
       "      <td>3</td>\n",
       "      <td>250</td>\n",
       "      <td>2012</td>\n",
       "    </tr>\n",
       "    <tr>\n",
       "      <th>2</th>\n",
       "      <td>3</td>\n",
       "      <td>B000LQOCH0</td>\n",
       "      <td>ABXLMWJIXXAIN</td>\n",
       "      <td>Natalia Corres \"Natalia Corres\"</td>\n",
       "      <td>1</td>\n",
       "      <td>1</td>\n",
       "      <td>4</td>\n",
       "      <td>2008-08-17 17:00:00</td>\n",
       "      <td>\"Delight\" says it all</td>\n",
       "      <td>This is a confection that has been around a fe...</td>\n",
       "      <td>17</td>\n",
       "      <td>6</td>\n",
       "      <td>230</td>\n",
       "      <td>2008</td>\n",
       "    </tr>\n",
       "  </tbody>\n",
       "</table>\n",
       "</div>"
      ],
      "text/plain": [
       "   Id   ProductId          UserId                      ProfileName  \\\n",
       "0   1  B001E4KFG0  A3SGXH7AUHU8GW                       delmartian   \n",
       "1   2  B00813GRG4  A1D87F6ZCVE5NK                           dll pa   \n",
       "2   3  B000LQOCH0   ABXLMWJIXXAIN  Natalia Corres \"Natalia Corres\"   \n",
       "\n",
       "   HelpfulnessNumerator  HelpfulnessDenominator  Score                Time  \\\n",
       "0                     1                       1      5 2011-04-26 17:00:00   \n",
       "1                     0                       0      1 2012-09-06 17:00:00   \n",
       "2                     1                       1      4 2008-08-17 17:00:00   \n",
       "\n",
       "                 Summary                                               Text  \\\n",
       "0  Good Quality Dog Food  I have bought several of the Vitality canned d...   \n",
       "1      Not as Advertised  Product arrived labeled as Jumbo Salted Peanut...   \n",
       "2  \"Delight\" says it all  This is a confection that has been around a fe...   \n",
       "\n",
       "   Hour  Weekday  Day  Year  \n",
       "0    17        1  116  2011  \n",
       "1    17        3  250  2012  \n",
       "2    17        6  230  2008  "
      ]
     },
     "execution_count": 15,
     "metadata": {},
     "output_type": "execute_result"
    }
   ],
   "source": [
    "reviews.head(3)"
   ]
  },
  {
   "cell_type": "code",
   "execution_count": 16,
   "metadata": {},
   "outputs": [
    {
     "data": {
      "text/html": [
       "<div>\n",
       "<style scoped>\n",
       "    .dataframe tbody tr th:only-of-type {\n",
       "        vertical-align: middle;\n",
       "    }\n",
       "\n",
       "    .dataframe tbody tr th {\n",
       "        vertical-align: top;\n",
       "    }\n",
       "\n",
       "    .dataframe thead th {\n",
       "        text-align: right;\n",
       "    }\n",
       "</style>\n",
       "<table border=\"1\" class=\"dataframe\">\n",
       "  <thead>\n",
       "    <tr style=\"text-align: right;\">\n",
       "      <th></th>\n",
       "      <th>Id</th>\n",
       "      <th>HelpfulnessNumerator</th>\n",
       "      <th>HelpfulnessDenominator</th>\n",
       "      <th>Score</th>\n",
       "      <th>Weekday</th>\n",
       "      <th>Day</th>\n",
       "      <th>Year</th>\n",
       "    </tr>\n",
       "    <tr>\n",
       "      <th>Hour</th>\n",
       "      <th></th>\n",
       "      <th></th>\n",
       "      <th></th>\n",
       "      <th></th>\n",
       "      <th></th>\n",
       "      <th></th>\n",
       "      <th></th>\n",
       "    </tr>\n",
       "  </thead>\n",
       "  <tbody>\n",
       "    <tr>\n",
       "      <th>16</th>\n",
       "      <td>284114.073784</td>\n",
       "      <td>2.023546</td>\n",
       "      <td>2.569035</td>\n",
       "      <td>4.175638</td>\n",
       "      <td>2.932100</td>\n",
       "      <td>154.615563</td>\n",
       "      <td>2010.335463</td>\n",
       "    </tr>\n",
       "    <tr>\n",
       "      <th>17</th>\n",
       "      <td>284282.633823</td>\n",
       "      <td>1.607848</td>\n",
       "      <td>2.063435</td>\n",
       "      <td>4.186874</td>\n",
       "      <td>2.919868</td>\n",
       "      <td>194.052094</td>\n",
       "      <td>2010.699814</td>\n",
       "    </tr>\n",
       "  </tbody>\n",
       "</table>\n",
       "</div>"
      ],
      "text/plain": [
       "                 Id  HelpfulnessNumerator  HelpfulnessDenominator     Score  \\\n",
       "Hour                                                                          \n",
       "16    284114.073784              2.023546                2.569035  4.175638   \n",
       "17    284282.633823              1.607848                2.063435  4.186874   \n",
       "\n",
       "       Weekday         Day         Year  \n",
       "Hour                                     \n",
       "16    2.932100  154.615563  2010.335463  \n",
       "17    2.919868  194.052094  2010.699814  "
      ]
     },
     "execution_count": 16,
     "metadata": {},
     "output_type": "execute_result"
    }
   ],
   "source": [
    "reviews.groupby('Hour').mean()"
   ]
  },
  {
   "cell_type": "code",
   "execution_count": 17,
   "metadata": {},
   "outputs": [
    {
     "name": "stdout",
     "output_type": "stream",
     "text": [
      "There are 185934 entries submitted at 4 pm, and 382520 entries submitted at 5 pm.\n"
     ]
    },
    {
     "data": {
      "text/plain": [
       "(array([1.60000e+01, 1.10000e+01, 1.90000e+01, 3.74000e+02, 7.74000e+02,\n",
       "        3.67200e+03, 3.43250e+04, 3.55260e+04, 5.34210e+04, 2.54382e+05]),\n",
       " array([1999. , 2000.3, 2001.6, 2002.9, 2004.2, 2005.5, 2006.8, 2008.1,\n",
       "        2009.4, 2010.7, 2012. ]),\n",
       " <a list of 10 Patch objects>)"
      ]
     },
     "execution_count": 17,
     "metadata": {},
     "output_type": "execute_result"
    },
    {
     "data": {
      "image/png": "[encoded data removed]",
      "text/plain": [
       "<Figure size 432x288 with 1 Axes>"
      ]
     },
     "metadata": {
      "needs_background": "light"
     },
     "output_type": "display_data"
    }
   ],
   "source": [
    "hour16 = reviews[reviews.Hour == 16]\n",
    "hour17 = reviews[reviews.Hour == 17]\n",
    "print(\"There are\",hour16.shape[0],\"entries submitted at 4 pm, and\", hour17.shape[0], \"entries submitted at 5 pm.\")\n",
    "plt.hist(hour16.Year,alpha = 0.5)\n",
    "plt.hist(hour17.Year, alpha = 0.5)"
   ]
  },
  {
   "cell_type": "code",
   "execution_count": 18,
   "metadata": {},
   "outputs": [
    {
     "data": {
      "text/plain": [
       "(array([32398., 35691., 36064., 36609., 35963., 38045., 40334., 44142.,\n",
       "        44595., 38679.]),\n",
       " array([ 67. ,  91.3, 115.6, 139.9, 164.2, 188.5, 212.8, 237.1, 261.4,\n",
       "        285.7, 310. ]),\n",
       " <a list of 10 Patch objects>)"
      ]
     },
     "execution_count": 18,
     "metadata": {},
     "output_type": "execute_result"
    },
    {
     "data": {
      "image/png": "[encoded data removed]",
      "text/plain": [
       "<Figure size 432x288 with 1 Axes>"
      ]
     },
     "metadata": {
      "needs_background": "light"
     },
     "output_type": "display_data"
    }
   ],
   "source": [
    "plt.hist(hour16.Day,alpha = 0.5)\n",
    "plt.hist(hour17.Day, alpha = 0.5)"
   ]
  },
  {
   "cell_type": "markdown",
   "metadata": {},
   "source": [
    "- Interestingly enough, the time of the review submission seems to be only related with the time of year, as shown above. Although this will not impact our models, it is important to understand the data collection methodology."
   ]
  },
  {
   "cell_type": "code",
   "execution_count": 19,
   "metadata": {
    "scrolled": true
   },
   "outputs": [
    {
     "data": {
      "text/plain": [
       "<matplotlib.axes._subplots.AxesSubplot at 0x1a23abf810>"
      ]
     },
     "execution_count": 19,
     "metadata": {},
     "output_type": "execute_result"
    },
    {
     "data": {
      "image/png": "[encoded data removed]",
      "text/plain": [
       "<Figure size 432x288 with 2 Axes>"
      ]
     },
     "metadata": {
      "needs_background": "light"
     },
     "output_type": "display_data"
    }
   ],
   "source": [
    "%matplotlib inline\n",
    "\n",
    "# calculate the correlation matrix\n",
    "corr = reviews.corr()\n",
    "\n",
    "# plot the heatmap\n",
    "sns.heatmap(corr, \n",
    "        xticklabels=corr.columns,\n",
    "        yticklabels=corr.columns)"
   ]
  },
  {
   "cell_type": "code",
   "execution_count": 20,
   "metadata": {},
   "outputs": [
    {
     "data": {
      "text/plain": [
       "array([[<matplotlib.axes._subplots.AxesSubplot object at 0x1a2394c290>]],\n",
       "      dtype=object)"
      ]
     },
     "execution_count": 20,
     "metadata": {},
     "output_type": "execute_result"
    },
    {
     "data": {
      "image/png": "[encoded data removed]",
      "text/plain": [
       "<Figure size 432x288 with 1 Axes>"
      ]
     },
     "metadata": {
      "needs_background": "light"
     },
     "output_type": "display_data"
    }
   ],
   "source": [
    "reviews.hist('Score')"
   ]
  },
  {
   "cell_type": "markdown",
   "metadata": {},
   "source": [
    "### Next, we will look try to identify duplicates within the dataset"
   ]
  },
  {
   "cell_type": "code",
   "execution_count": 21,
   "metadata": {},
   "outputs": [
    {
     "name": "stdout",
     "output_type": "stream",
     "text": [
      "(2082, 14)\n"
     ]
    },
    {
     "data": {
      "text/html": [
       "<div>\n",
       "<style scoped>\n",
       "    .dataframe tbody tr th:only-of-type {\n",
       "        vertical-align: middle;\n",
       "    }\n",
       "\n",
       "    .dataframe tbody tr th {\n",
       "        vertical-align: top;\n",
       "    }\n",
       "\n",
       "    .dataframe thead th {\n",
       "        text-align: right;\n",
       "    }\n",
       "</style>\n",
       "<table border=\"1\" class=\"dataframe\">\n",
       "  <thead>\n",
       "    <tr style=\"text-align: right;\">\n",
       "      <th></th>\n",
       "      <th>Id</th>\n",
       "      <th>ProductId</th>\n",
       "      <th>UserId</th>\n",
       "      <th>ProfileName</th>\n",
       "      <th>HelpfulnessNumerator</th>\n",
       "      <th>HelpfulnessDenominator</th>\n",
       "      <th>Score</th>\n",
       "      <th>Time</th>\n",
       "      <th>Summary</th>\n",
       "      <th>Text</th>\n",
       "      <th>Hour</th>\n",
       "      <th>Weekday</th>\n",
       "      <th>Day</th>\n",
       "      <th>Year</th>\n",
       "    </tr>\n",
       "  </thead>\n",
       "  <tbody>\n",
       "    <tr>\n",
       "      <th>466</th>\n",
       "      <td>467</td>\n",
       "      <td>B000G6RYNE</td>\n",
       "      <td>A3PJZ8TU8FDQ1K</td>\n",
       "      <td>Jared Castle</td>\n",
       "      <td>0</td>\n",
       "      <td>0</td>\n",
       "      <td>5</td>\n",
       "      <td>2009-01-11 16:00:00</td>\n",
       "      <td>One bite and you'll become a \"chippoisseur\"</td>\n",
       "      <td>I'm addicted to salty and tangy flavors, so wh...</td>\n",
       "      <td>16</td>\n",
       "      <td>6</td>\n",
       "      <td>11</td>\n",
       "      <td>2009</td>\n",
       "    </tr>\n",
       "    <tr>\n",
       "      <th>574</th>\n",
       "      <td>575</td>\n",
       "      <td>B000G6RYNE</td>\n",
       "      <td>A3PJZ8TU8FDQ1K</td>\n",
       "      <td>Jared Castle</td>\n",
       "      <td>2</td>\n",
       "      <td>2</td>\n",
       "      <td>5</td>\n",
       "      <td>2009-01-11 16:00:00</td>\n",
       "      <td>One bite and you'll become a \"chippoisseur\"</td>\n",
       "      <td>I'm addicted to salty and tangy flavors, so wh...</td>\n",
       "      <td>16</td>\n",
       "      <td>6</td>\n",
       "      <td>11</td>\n",
       "      <td>2009</td>\n",
       "    </tr>\n",
       "    <tr>\n",
       "      <th>603</th>\n",
       "      <td>604</td>\n",
       "      <td>B000G6RYNE</td>\n",
       "      <td>A3PJZ8TU8FDQ1K</td>\n",
       "      <td>Jared Castle</td>\n",
       "      <td>1</td>\n",
       "      <td>1</td>\n",
       "      <td>5</td>\n",
       "      <td>2008-12-15 16:00:00</td>\n",
       "      <td>One bite and you'll become a \"chippoisseur\"</td>\n",
       "      <td>I'm addicted to salty and tangy flavors, so wh...</td>\n",
       "      <td>16</td>\n",
       "      <td>0</td>\n",
       "      <td>350</td>\n",
       "      <td>2008</td>\n",
       "    </tr>\n",
       "  </tbody>\n",
       "</table>\n",
       "</div>"
      ],
      "text/plain": [
       "      Id   ProductId          UserId   ProfileName  HelpfulnessNumerator  \\\n",
       "466  467  B000G6RYNE  A3PJZ8TU8FDQ1K  Jared Castle                     0   \n",
       "574  575  B000G6RYNE  A3PJZ8TU8FDQ1K  Jared Castle                     2   \n",
       "603  604  B000G6RYNE  A3PJZ8TU8FDQ1K  Jared Castle                     1   \n",
       "\n",
       "     HelpfulnessDenominator  Score                Time  \\\n",
       "466                       0      5 2009-01-11 16:00:00   \n",
       "574                       2      5 2009-01-11 16:00:00   \n",
       "603                       1      5 2008-12-15 16:00:00   \n",
       "\n",
       "                                         Summary  \\\n",
       "466  One bite and you'll become a \"chippoisseur\"   \n",
       "574  One bite and you'll become a \"chippoisseur\"   \n",
       "603  One bite and you'll become a \"chippoisseur\"   \n",
       "\n",
       "                                                  Text  Hour  Weekday  Day  \\\n",
       "466  I'm addicted to salty and tangy flavors, so wh...    16        6   11   \n",
       "574  I'm addicted to salty and tangy flavors, so wh...    16        6   11   \n",
       "603  I'm addicted to salty and tangy flavors, so wh...    16        0  350   \n",
       "\n",
       "     Year  \n",
       "466  2009  \n",
       "574  2009  \n",
       "603  2008  "
      ]
     },
     "execution_count": 21,
     "metadata": {},
     "output_type": "execute_result"
    }
   ],
   "source": [
    "entriesWithDuplicates = reviews[reviews.duplicated(['UserId','ProductId','Score','Text'],keep = False)]\n",
    "print(entriesWithDuplicates.shape)\n",
    "entriesWithDuplicates.head(3)"
   ]
  },
  {
   "cell_type": "code",
   "execution_count": 22,
   "metadata": {},
   "outputs": [
    {
     "data": {
      "text/html": [
       "<div>\n",
       "<style scoped>\n",
       "    .dataframe tbody tr th:only-of-type {\n",
       "        vertical-align: middle;\n",
       "    }\n",
       "\n",
       "    .dataframe tbody tr th {\n",
       "        vertical-align: top;\n",
       "    }\n",
       "\n",
       "    .dataframe thead th {\n",
       "        text-align: right;\n",
       "    }\n",
       "</style>\n",
       "<table border=\"1\" class=\"dataframe\">\n",
       "  <thead>\n",
       "    <tr style=\"text-align: right;\">\n",
       "      <th></th>\n",
       "      <th>Id</th>\n",
       "      <th>ProductId</th>\n",
       "      <th>UserId</th>\n",
       "      <th>ProfileName</th>\n",
       "      <th>HelpfulnessNumerator</th>\n",
       "      <th>HelpfulnessDenominator</th>\n",
       "      <th>Score</th>\n",
       "      <th>Time</th>\n",
       "      <th>Summary</th>\n",
       "      <th>Text</th>\n",
       "      <th>Hour</th>\n",
       "      <th>Weekday</th>\n",
       "      <th>Day</th>\n",
       "      <th>Year</th>\n",
       "    </tr>\n",
       "  </thead>\n",
       "  <tbody>\n",
       "    <tr>\n",
       "      <th>466</th>\n",
       "      <td>467</td>\n",
       "      <td>B000G6RYNE</td>\n",
       "      <td>A3PJZ8TU8FDQ1K</td>\n",
       "      <td>Jared Castle</td>\n",
       "      <td>0</td>\n",
       "      <td>0</td>\n",
       "      <td>5</td>\n",
       "      <td>2009-01-11 16:00:00</td>\n",
       "      <td>One bite and you'll become a \"chippoisseur\"</td>\n",
       "      <td>I'm addicted to salty and tangy flavors, so wh...</td>\n",
       "      <td>16</td>\n",
       "      <td>6</td>\n",
       "      <td>11</td>\n",
       "      <td>2009</td>\n",
       "    </tr>\n",
       "    <tr>\n",
       "      <th>467</th>\n",
       "      <td>468</td>\n",
       "      <td>B000G6RYNE</td>\n",
       "      <td>A3PJZ8TU8FDQ1K</td>\n",
       "      <td>Jared Castle</td>\n",
       "      <td>0</td>\n",
       "      <td>0</td>\n",
       "      <td>5</td>\n",
       "      <td>2009-01-11 16:00:00</td>\n",
       "      <td>Crunchy, salty, sweet...finally, a Superbowl s...</td>\n",
       "      <td>These Honey Dijon chips bring a terrific balan...</td>\n",
       "      <td>16</td>\n",
       "      <td>6</td>\n",
       "      <td>11</td>\n",
       "      <td>2009</td>\n",
       "    </tr>\n",
       "    <tr>\n",
       "      <th>574</th>\n",
       "      <td>575</td>\n",
       "      <td>B000G6RYNE</td>\n",
       "      <td>A3PJZ8TU8FDQ1K</td>\n",
       "      <td>Jared Castle</td>\n",
       "      <td>2</td>\n",
       "      <td>2</td>\n",
       "      <td>5</td>\n",
       "      <td>2009-01-11 16:00:00</td>\n",
       "      <td>One bite and you'll become a \"chippoisseur\"</td>\n",
       "      <td>I'm addicted to salty and tangy flavors, so wh...</td>\n",
       "      <td>16</td>\n",
       "      <td>6</td>\n",
       "      <td>11</td>\n",
       "      <td>2009</td>\n",
       "    </tr>\n",
       "    <tr>\n",
       "      <th>602</th>\n",
       "      <td>603</td>\n",
       "      <td>B000G6RYNE</td>\n",
       "      <td>A3PJZ8TU8FDQ1K</td>\n",
       "      <td>Jared Castle</td>\n",
       "      <td>1</td>\n",
       "      <td>1</td>\n",
       "      <td>5</td>\n",
       "      <td>2009-03-14 17:00:00</td>\n",
       "      <td>One bite and you'll become a \"chippoisseur\"</td>\n",
       "      <td>As an Oregonian, I make a point of sharing the...</td>\n",
       "      <td>17</td>\n",
       "      <td>5</td>\n",
       "      <td>73</td>\n",
       "      <td>2009</td>\n",
       "    </tr>\n",
       "    <tr>\n",
       "      <th>603</th>\n",
       "      <td>604</td>\n",
       "      <td>B000G6RYNE</td>\n",
       "      <td>A3PJZ8TU8FDQ1K</td>\n",
       "      <td>Jared Castle</td>\n",
       "      <td>1</td>\n",
       "      <td>1</td>\n",
       "      <td>5</td>\n",
       "      <td>2008-12-15 16:00:00</td>\n",
       "      <td>One bite and you'll become a \"chippoisseur\"</td>\n",
       "      <td>I'm addicted to salty and tangy flavors, so wh...</td>\n",
       "      <td>16</td>\n",
       "      <td>0</td>\n",
       "      <td>350</td>\n",
       "      <td>2008</td>\n",
       "    </tr>\n",
       "    <tr>\n",
       "      <th>...</th>\n",
       "      <td>...</td>\n",
       "      <td>...</td>\n",
       "      <td>...</td>\n",
       "      <td>...</td>\n",
       "      <td>...</td>\n",
       "      <td>...</td>\n",
       "      <td>...</td>\n",
       "      <td>...</td>\n",
       "      <td>...</td>\n",
       "      <td>...</td>\n",
       "      <td>...</td>\n",
       "      <td>...</td>\n",
       "      <td>...</td>\n",
       "      <td>...</td>\n",
       "    </tr>\n",
       "    <tr>\n",
       "      <th>550446</th>\n",
       "      <td>550447</td>\n",
       "      <td>B001SAXPEO</td>\n",
       "      <td>A3PJZ8TU8FDQ1K</td>\n",
       "      <td>Jared Castle</td>\n",
       "      <td>1</td>\n",
       "      <td>1</td>\n",
       "      <td>5</td>\n",
       "      <td>2009-03-14 17:00:00</td>\n",
       "      <td>One bite and you'll become a \"chippoisseur\"</td>\n",
       "      <td>As an Oregonian, I make a point of sharing the...</td>\n",
       "      <td>17</td>\n",
       "      <td>5</td>\n",
       "      <td>73</td>\n",
       "      <td>2009</td>\n",
       "    </tr>\n",
       "    <tr>\n",
       "      <th>550447</th>\n",
       "      <td>550448</td>\n",
       "      <td>B001SAXPEO</td>\n",
       "      <td>A3PJZ8TU8FDQ1K</td>\n",
       "      <td>Jared Castle</td>\n",
       "      <td>1</td>\n",
       "      <td>1</td>\n",
       "      <td>5</td>\n",
       "      <td>2008-12-15 16:00:00</td>\n",
       "      <td>One bite and you'll become a \"chippoisseur\"</td>\n",
       "      <td>I'm addicted to salty and tangy flavors, so wh...</td>\n",
       "      <td>16</td>\n",
       "      <td>0</td>\n",
       "      <td>350</td>\n",
       "      <td>2008</td>\n",
       "    </tr>\n",
       "    <tr>\n",
       "      <th>552295</th>\n",
       "      <td>552296</td>\n",
       "      <td>B001EO664K</td>\n",
       "      <td>A3PJZ8TU8FDQ1K</td>\n",
       "      <td>Jared Castle</td>\n",
       "      <td>0</td>\n",
       "      <td>1</td>\n",
       "      <td>3</td>\n",
       "      <td>2011-08-25 17:00:00</td>\n",
       "      <td>Variety may be the spice of life, but it certa...</td>\n",
       "      <td>We've had such good fortune with Green Mountai...</td>\n",
       "      <td>17</td>\n",
       "      <td>3</td>\n",
       "      <td>237</td>\n",
       "      <td>2011</td>\n",
       "    </tr>\n",
       "    <tr>\n",
       "      <th>557500</th>\n",
       "      <td>557501</td>\n",
       "      <td>B003YBLF2E</td>\n",
       "      <td>A3PJZ8TU8FDQ1K</td>\n",
       "      <td>Jared Castle</td>\n",
       "      <td>0</td>\n",
       "      <td>1</td>\n",
       "      <td>5</td>\n",
       "      <td>2011-04-13 17:00:00</td>\n",
       "      <td>Healthy, handy and tasty. Lunch for those on t...</td>\n",
       "      <td>At 410 calories with no trans fat and 22 grams...</td>\n",
       "      <td>17</td>\n",
       "      <td>2</td>\n",
       "      <td>103</td>\n",
       "      <td>2011</td>\n",
       "    </tr>\n",
       "    <tr>\n",
       "      <th>565143</th>\n",
       "      <td>565144</td>\n",
       "      <td>B001EO5U3I</td>\n",
       "      <td>A3PJZ8TU8FDQ1K</td>\n",
       "      <td>Jared Castle</td>\n",
       "      <td>1</td>\n",
       "      <td>1</td>\n",
       "      <td>5</td>\n",
       "      <td>2008-06-24 17:00:00</td>\n",
       "      <td>Add Drambuie and brown sugar and you've got oa...</td>\n",
       "      <td>Our family began ordering McCann's steel cut o...</td>\n",
       "      <td>17</td>\n",
       "      <td>1</td>\n",
       "      <td>176</td>\n",
       "      <td>2008</td>\n",
       "    </tr>\n",
       "  </tbody>\n",
       "</table>\n",
       "<p>178 rows × 14 columns</p>\n",
       "</div>"
      ],
      "text/plain": [
       "            Id   ProductId          UserId   ProfileName  \\\n",
       "466        467  B000G6RYNE  A3PJZ8TU8FDQ1K  Jared Castle   \n",
       "467        468  B000G6RYNE  A3PJZ8TU8FDQ1K  Jared Castle   \n",
       "574        575  B000G6RYNE  A3PJZ8TU8FDQ1K  Jared Castle   \n",
       "602        603  B000G6RYNE  A3PJZ8TU8FDQ1K  Jared Castle   \n",
       "603        604  B000G6RYNE  A3PJZ8TU8FDQ1K  Jared Castle   \n",
       "...        ...         ...             ...           ...   \n",
       "550446  550447  B001SAXPEO  A3PJZ8TU8FDQ1K  Jared Castle   \n",
       "550447  550448  B001SAXPEO  A3PJZ8TU8FDQ1K  Jared Castle   \n",
       "552295  552296  B001EO664K  A3PJZ8TU8FDQ1K  Jared Castle   \n",
       "557500  557501  B003YBLF2E  A3PJZ8TU8FDQ1K  Jared Castle   \n",
       "565143  565144  B001EO5U3I  A3PJZ8TU8FDQ1K  Jared Castle   \n",
       "\n",
       "        HelpfulnessNumerator  HelpfulnessDenominator  Score  \\\n",
       "466                        0                       0      5   \n",
       "467                        0                       0      5   \n",
       "574                        2                       2      5   \n",
       "602                        1                       1      5   \n",
       "603                        1                       1      5   \n",
       "...                      ...                     ...    ...   \n",
       "550446                     1                       1      5   \n",
       "550447                     1                       1      5   \n",
       "552295                     0                       1      3   \n",
       "557500                     0                       1      5   \n",
       "565143                     1                       1      5   \n",
       "\n",
       "                      Time                                            Summary  \\\n",
       "466    2009-01-11 16:00:00        One bite and you'll become a \"chippoisseur\"   \n",
       "467    2009-01-11 16:00:00  Crunchy, salty, sweet...finally, a Superbowl s...   \n",
       "574    2009-01-11 16:00:00        One bite and you'll become a \"chippoisseur\"   \n",
       "602    2009-03-14 17:00:00        One bite and you'll become a \"chippoisseur\"   \n",
       "603    2008-12-15 16:00:00        One bite and you'll become a \"chippoisseur\"   \n",
       "...                    ...                                                ...   \n",
       "550446 2009-03-14 17:00:00        One bite and you'll become a \"chippoisseur\"   \n",
       "550447 2008-12-15 16:00:00        One bite and you'll become a \"chippoisseur\"   \n",
       "552295 2011-08-25 17:00:00  Variety may be the spice of life, but it certa...   \n",
       "557500 2011-04-13 17:00:00  Healthy, handy and tasty. Lunch for those on t...   \n",
       "565143 2008-06-24 17:00:00  Add Drambuie and brown sugar and you've got oa...   \n",
       "\n",
       "                                                     Text  Hour  Weekday  Day  \\\n",
       "466     I'm addicted to salty and tangy flavors, so wh...    16        6   11   \n",
       "467     These Honey Dijon chips bring a terrific balan...    16        6   11   \n",
       "574     I'm addicted to salty and tangy flavors, so wh...    16        6   11   \n",
       "602     As an Oregonian, I make a point of sharing the...    17        5   73   \n",
       "603     I'm addicted to salty and tangy flavors, so wh...    16        0  350   \n",
       "...                                                   ...   ...      ...  ...   \n",
       "550446  As an Oregonian, I make a point of sharing the...    17        5   73   \n",
       "550447  I'm addicted to salty and tangy flavors, so wh...    16        0  350   \n",
       "552295  We've had such good fortune with Green Mountai...    17        3  237   \n",
       "557500  At 410 calories with no trans fat and 22 grams...    17        2  103   \n",
       "565143  Our family began ordering McCann's steel cut o...    17        1  176   \n",
       "\n",
       "        Year  \n",
       "466     2009  \n",
       "467     2009  \n",
       "574     2009  \n",
       "602     2009  \n",
       "603     2008  \n",
       "...      ...  \n",
       "550446  2009  \n",
       "550447  2008  \n",
       "552295  2011  \n",
       "557500  2011  \n",
       "565143  2008  \n",
       "\n",
       "[178 rows x 14 columns]"
      ]
     },
     "execution_count": 22,
     "metadata": {},
     "output_type": "execute_result"
    }
   ],
   "source": [
    "reviews[reviews['UserId'] == 'A3PJZ8TU8FDQ1K']"
   ]
  },
  {
   "cell_type": "markdown",
   "metadata": {},
   "source": [
    "A couple things to note from the above output:\n",
    "1. The user has, on multiple occassions, written multiple reviews for the same ProductId.\n",
    "2. In addition, this user has written the same 5 reviews for a handful of different productIds.\n",
    "3. Let's look more into some of the products with the same reviews: (B000G6RYNE, B0058AMY74, B0012XBD7I, B000LKVD5U, B006WYSFZK, B004728MI4, B001SAXPEO)"
   ]
  },
  {
   "cell_type": "code",
   "execution_count": 23,
   "metadata": {},
   "outputs": [],
   "source": [
    "potentialDupeProducts = ['B000G6RYNE', 'B0058AMY74', 'B0012XBD7I', 'B000LKVD5U', 'B006WYSFZK', 'B004728MI4']\n"
   ]
  },
  {
   "cell_type": "code",
   "execution_count": 24,
   "metadata": {},
   "outputs": [],
   "source": [
    "def frequencies(values):\n",
    "    frequencies = {}\n",
    "    for v in values:\n",
    "        if v in frequencies:\n",
    "            frequencies[v] += 1\n",
    "        else:\n",
    "            frequencies[v] = 1\n",
    "    return frequencies\n",
    "def probabilities(sample, freqs):\n",
    "    probs = []\n",
    "    for k,v in freqs.items():\n",
    "        size = len(sample)\n",
    "        probs.insert(0,float(v)/size)\n",
    "    return probs"
   ]
  },
  {
   "cell_type": "code",
   "execution_count": 25,
   "metadata": {},
   "outputs": [
    {
     "name": "stdout",
     "output_type": "stream",
     "text": [
      "B000G6RYNE\n",
      "5    125\n",
      "4     36\n",
      "1     27\n",
      "3     17\n",
      "2     12\n",
      "Name: Score, dtype: int64\n",
      "\n",
      "B0058AMY74\n",
      "5    125\n",
      "4     36\n",
      "1     27\n",
      "3     17\n",
      "2     12\n",
      "Name: Score, dtype: int64\n",
      "\n",
      "B0012XBD7I\n",
      "5    126\n",
      "4     36\n",
      "1     27\n",
      "3     17\n",
      "2     12\n",
      "Name: Score, dtype: int64\n",
      "\n",
      "B000LKVD5U\n",
      "5    125\n",
      "4     36\n",
      "1     27\n",
      "3     17\n",
      "2     12\n",
      "Name: Score, dtype: int64\n",
      "\n",
      "B006WYSFZK\n",
      "5    126\n",
      "4     36\n",
      "1     27\n",
      "3     17\n",
      "2     12\n",
      "Name: Score, dtype: int64\n",
      "\n",
      "B004728MI4\n",
      "5    126\n",
      "4     36\n",
      "1     27\n",
      "3     17\n",
      "2     12\n",
      "Name: Score, dtype: int64\n",
      "\n"
     ]
    },
    {
     "data": {
      "image/png": "[encoded data removed]",
      "text/plain": [
       "<Figure size 1080x648 with 6 Axes>"
      ]
     },
     "metadata": {
      "needs_background": "light"
     },
     "output_type": "display_data"
    }
   ],
   "source": [
    "fig, axes = plt.subplots(nrows=2, ncols=3, figsize=(15, 9))\n",
    "count = 0\n",
    "for i in potentialDupeProducts:\n",
    "    x = reviews[reviews['ProductId'] == i].Score\n",
    "    print(i)\n",
    "    print(x.value_counts())\n",
    "    print('')\n",
    "    freqs = frequencies(x)\n",
    "    probs = probabilities(x, freqs)\n",
    "    x_axis = list(set(x))\n",
    "    axes[int(count / 3), int(count%3)].bar(x_axis, probs)\n",
    "    count += 1"
   ]
  },
  {
   "cell_type": "markdown",
   "metadata": {},
   "source": [
    "- On first glance, the above products seem to have the exact same distribution, although there are only 125 5-star reviews for 3 of the products, while there are 126 5-star reviews for the other 3.\n",
    "- Now, let's look at the 2-star reviews to confirm that they are identical"
   ]
  },
  {
   "cell_type": "code",
   "execution_count": 26,
   "metadata": {
    "scrolled": false
   },
   "outputs": [
    {
     "name": "stdout",
     "output_type": "stream",
     "text": [
      "B000G6RYNE\n",
      "483    I like Kettle chips but was really disappointe...\n",
      "487    I really love Kettle brand chips, but these ar...\n",
      "490    I agree with the other review, these chips are...\n",
      "501    It was a great value and I like the package si...\n",
      "507    I was really looking forward to trying these c...\n",
      "519    Being a salt-free product is why I purchased t...\n",
      "535    Got these Kettle Chips Sea Salt & Vinegar (15 ...\n",
      "546    Unless you like salt vinegar chips as salty as...\n",
      "552    If you are looking for STRONG S/V flavor these...\n",
      "553    I don't know if it was the case of chips we re...\n",
      "593    There is nothing too good or too bad about the...\n",
      "620    The Spicy Thai chips used to be the best tasti...\n",
      "Name: Text, dtype: object\n",
      "\n",
      "B0058AMY74\n",
      "26058    I like Kettle chips but was really disappointe...\n",
      "26062    I really love Kettle brand chips, but these ar...\n",
      "26065    I agree with the other review, these chips are...\n",
      "26076    It was a great value and I like the package si...\n",
      "26082    I was really looking forward to trying these c...\n",
      "26094    Being a salt-free product is why I purchased t...\n",
      "26110    Got these Kettle Chips Sea Salt & Vinegar (15 ...\n",
      "26121    Unless you like salt vinegar chips as salty as...\n",
      "26127    If you are looking for STRONG S/V flavor these...\n",
      "26128    I don't know if it was the case of chips we re...\n",
      "26168    There is nothing too good or too bad about the...\n",
      "26195    The Spicy Thai chips used to be the best tasti...\n",
      "Name: Text, dtype: object\n",
      "\n",
      "B0012XBD7I\n",
      "56574    I like Kettle chips but was really disappointe...\n",
      "56578    I really love Kettle brand chips, but these ar...\n",
      "56581    I agree with the other review, these chips are...\n",
      "56592    It was a great value and I like the package si...\n",
      "56598    I was really looking forward to trying these c...\n",
      "56610    Being a salt-free product is why I purchased t...\n",
      "56626    Got these Kettle Chips Sea Salt & Vinegar (15 ...\n",
      "56637    Unless you like salt vinegar chips as salty as...\n",
      "56643    If you are looking for STRONG S/V flavor these...\n",
      "56644    I don't know if it was the case of chips we re...\n",
      "56684    There is nothing too good or too bad about the...\n",
      "56711    The Spicy Thai chips used to be the best tasti...\n",
      "Name: Text, dtype: object\n",
      "\n",
      "B000LKVD5U\n",
      "497845    I like Kettle chips but was really disappointe...\n",
      "497849    I really love Kettle brand chips, but these ar...\n",
      "497852    I agree with the other review, these chips are...\n",
      "497863    It was a great value and I like the package si...\n",
      "497869    I was really looking forward to trying these c...\n",
      "497881    Being a salt-free product is why I purchased t...\n",
      "497897    Got these Kettle Chips Sea Salt & Vinegar (15 ...\n",
      "497908    Unless you like salt vinegar chips as salty as...\n",
      "497914    If you are looking for STRONG S/V flavor these...\n",
      "497915    I don't know if it was the case of chips we re...\n",
      "497955    There is nothing too good or too bad about the...\n",
      "497982    The Spicy Thai chips used to be the best tasti...\n",
      "Name: Text, dtype: object\n",
      "\n",
      "B006WYSFZK\n",
      "539499    I like Kettle chips but was really disappointe...\n",
      "539503    I really love Kettle brand chips, but these ar...\n",
      "539506    I agree with the other review, these chips are...\n",
      "539517    It was a great value and I like the package si...\n",
      "539523    I was really looking forward to trying these c...\n",
      "539535    Being a salt-free product is why I purchased t...\n",
      "539551    Got these Kettle Chips Sea Salt & Vinegar (15 ...\n",
      "539562    Unless you like salt vinegar chips as salty as...\n",
      "539568    If you are looking for STRONG S/V flavor these...\n",
      "539569    I don't know if it was the case of chips we re...\n",
      "539609    There is nothing too good or too bad about the...\n",
      "539636    The Spicy Thai chips used to be the best tasti...\n",
      "Name: Text, dtype: object\n",
      "\n",
      "B004728MI4\n",
      "549240    I like Kettle chips but was really disappointe...\n",
      "549244    I really love Kettle brand chips, but these ar...\n",
      "549247    I agree with the other review, these chips are...\n",
      "549258    It was a great value and I like the package si...\n",
      "549264    I was really looking forward to trying these c...\n",
      "549276    Being a salt-free product is why I purchased t...\n",
      "549292    Got these Kettle Chips Sea Salt & Vinegar (15 ...\n",
      "549303    Unless you like salt vinegar chips as salty as...\n",
      "549309    If you are looking for STRONG S/V flavor these...\n",
      "549310    I don't know if it was the case of chips we re...\n",
      "549350    There is nothing too good or too bad about the...\n",
      "549377    The Spicy Thai chips used to be the best tasti...\n",
      "Name: Text, dtype: object\n",
      "\n"
     ]
    }
   ],
   "source": [
    "for i in potentialDupeProducts:\n",
    "    print(i)\n",
    "    x = reviews[(reviews.ProductId == i) & (reviews.Score == 2)].Text\n",
    "    print(x)\n",
    "    print('')"
   ]
  },
  {
   "cell_type": "markdown",
   "metadata": {},
   "source": [
    "- It is clear that the 6 above products are all referencing the same reviews. In order to properly account for each review, we will need to join any and all products with the same reviews. **However**, we will need to account for similar products that are off by one review\n",
    "- To start, let us first aggregate reviews that are by the same user, with the same product/score, for the same text."
   ]
  },
  {
   "cell_type": "markdown",
   "metadata": {},
   "source": [
    "# Week 2!\n",
    "\n",
    "## 1. Duplicate Reviews:\n",
    "    - First, get rid of duplicates with the same userId, productId, Text, and Score\n",
    "    - Next, figure out how to combine different productIds that represent the same item\n",
    "    "
   ]
  },
  {
   "cell_type": "code",
   "execution_count": 27,
   "metadata": {},
   "outputs": [],
   "source": [
    "cleanReviews = reviews.copy()"
   ]
  },
  {
   "cell_type": "code",
   "execution_count": 28,
   "metadata": {
    "scrolled": true
   },
   "outputs": [
    {
     "name": "stdout",
     "output_type": "stream",
     "text": [
      "HelpfulnessNumerator\n",
      "HelpfulnessDenominator\n",
      "Score\n",
      "Count\n",
      "removed 898 entries, leaving us with a total of: 567556\n"
     ]
    }
   ],
   "source": [
    "columns = ['HelpfulnessNumerator', 'HelpfulnessDenominator', 'Score', 'Count'] # Where Count is the number of duplciates\n",
    "for i in columns:\n",
    "    print(i)\n",
    "    if(i == 'Count'):\n",
    "        cleanReviews[i] = cleanReviews.groupby(['UserId','ProductId','Summary','Text'])['Score'].transform('count')\n",
    "    else:\n",
    "        cleanReviews[i] = cleanReviews.groupby(['UserId','ProductId','Summary','Text'])[i].transform('mean')\n",
    "\n",
    "# Now, remove duplicates, and keep first entry\n",
    "cleanReviews.drop_duplicates(subset = ['UserId', 'ProductId', 'Summary', 'Text'], \n",
    "                     keep = 'first', inplace = True) \n",
    "print('removed',reviews.shape[0] - cleanReviews.shape[0], 'entries, leaving us with a total of:', cleanReviews.shape[0])"
   ]
  },
  {
   "cell_type": "code",
   "execution_count": 29,
   "metadata": {},
   "outputs": [
    {
     "name": "stdout",
     "output_type": "stream",
     "text": [
      "HelpfulnessNumerator\n",
      "HelpfulnessDenominator\n",
      "Score\n",
      "Count\n",
      "removed 173334 entries, leaving us with a total of: 395120\n"
     ]
    }
   ],
   "source": [
    "# If we remove duplicates of user and reviews, that should account for almost all of them\n",
    "for i in columns:\n",
    "    print(i)\n",
    "    if(i == 'Count'):\n",
    "        cleanReviews[i] = cleanReviews.groupby(['UserId','ProductId','Summary','Text'])['Score'].transform('count')\n",
    "    else:\n",
    "        cleanReviews[i] = cleanReviews.groupby(['UserId','ProductId','Summary','Text'])[i].transform('mean')\n",
    "\n",
    "# Now, remove duplicates, and keep first entry\n",
    "cleanReviews.drop_duplicates(subset = ['UserId', 'Time','Summary', 'Text'], \n",
    "                     keep = 'first', inplace = True) \n",
    "print('removed',reviews.shape[0] - cleanReviews.shape[0], 'entries, leaving us with a total of:', cleanReviews.shape[0])"
   ]
  },
  {
   "cell_type": "code",
   "execution_count": 30,
   "metadata": {},
   "outputs": [
    {
     "name": "stdout",
     "output_type": "stream",
     "text": [
      "We started with a total of 230670 duplicates.\n",
      "After removing similar entries, our new dataset has: 0 duplicates.\n"
     ]
    }
   ],
   "source": [
    "pre = reviews[reviews.duplicated(['UserId','Time','Text', 'Summary'],keep = False)]\n",
    "post = cleanReviews[cleanReviews.duplicated(['UserId','Time','Text', 'Summary'],keep = False)]\n",
    "print('We started with a total of', pre.shape[0], 'duplicates.')\n",
    "print('After removing similar entries, our new dataset has:', post.shape[0], 'duplicates.')"
   ]
  },
  {
   "cell_type": "markdown",
   "metadata": {},
   "source": [
    "- Okay, we got rid of a lot of reviews. Let's look at the original 6 we were interested in"
   ]
  },
  {
   "cell_type": "code",
   "execution_count": 31,
   "metadata": {},
   "outputs": [
    {
     "name": "stdout",
     "output_type": "stream",
     "text": [
      "B000G6RYNE\n",
      "5.0    123\n",
      "4.0     36\n",
      "1.0     27\n",
      "3.0     17\n",
      "2.0     12\n",
      "Name: Score, dtype: int64\n",
      "\n",
      "B0058AMY74\n",
      "Series([], Name: Score, dtype: int64)\n",
      "\n",
      "B0012XBD7I\n",
      "5.0    1\n",
      "Name: Score, dtype: int64\n",
      "\n",
      "B000LKVD5U\n",
      "Series([], Name: Score, dtype: int64)\n",
      "\n",
      "B006WYSFZK\n",
      "Series([], Name: Score, dtype: int64)\n",
      "\n",
      "B004728MI4\n",
      "Series([], Name: Score, dtype: int64)\n",
      "\n"
     ]
    },
    {
     "data": {
      "image/png": "[encoded data removed]",
      "text/plain": [
       "<Figure size 1080x648 with 6 Axes>"
      ]
     },
     "metadata": {
      "needs_background": "light"
     },
     "output_type": "display_data"
    }
   ],
   "source": [
    "fig, axes = plt.subplots(nrows=2, ncols=3, figsize=(15, 9))\n",
    "count = 0\n",
    "for i in potentialDupeProducts:\n",
    "    x = cleanReviews[cleanReviews['ProductId'] == i].Score\n",
    "    print(i)\n",
    "    print(x.value_counts())\n",
    "    print('')\n",
    "    freqs = frequencies(x)\n",
    "    probs = probabilities(x, freqs)\n",
    "    x_axis = list(set(x))\n",
    "    axes[int(count / 3), int(count%3)].bar(x_axis, probs)\n",
    "    count += 1"
   ]
  },
  {
   "cell_type": "markdown",
   "metadata": {},
   "source": [
    "It seems that we have gotten rid of almost all of the reviews with duplicates."
   ]
  },
  {
   "cell_type": "code",
   "execution_count": 32,
   "metadata": {},
   "outputs": [
    {
     "data": {
      "text/html": [
       "<div>\n",
       "<style scoped>\n",
       "    .dataframe tbody tr th:only-of-type {\n",
       "        vertical-align: middle;\n",
       "    }\n",
       "\n",
       "    .dataframe tbody tr th {\n",
       "        vertical-align: top;\n",
       "    }\n",
       "\n",
       "    .dataframe thead th {\n",
       "        text-align: right;\n",
       "    }\n",
       "</style>\n",
       "<table border=\"1\" class=\"dataframe\">\n",
       "  <thead>\n",
       "    <tr style=\"text-align: right;\">\n",
       "      <th></th>\n",
       "      <th>Id</th>\n",
       "      <th>ProductId</th>\n",
       "      <th>UserId</th>\n",
       "      <th>ProfileName</th>\n",
       "      <th>HelpfulnessNumerator</th>\n",
       "      <th>HelpfulnessDenominator</th>\n",
       "      <th>Score</th>\n",
       "      <th>Time</th>\n",
       "      <th>Summary</th>\n",
       "      <th>Text</th>\n",
       "      <th>Hour</th>\n",
       "      <th>Weekday</th>\n",
       "      <th>Day</th>\n",
       "      <th>Year</th>\n",
       "      <th>Count</th>\n",
       "    </tr>\n",
       "  </thead>\n",
       "  <tbody>\n",
       "    <tr>\n",
       "      <th>56722</th>\n",
       "      <td>56723</td>\n",
       "      <td>B0012XBD7I</td>\n",
       "      <td>A32NC2UF34RJQY</td>\n",
       "      <td>D. Pagliassotti</td>\n",
       "      <td>0.0</td>\n",
       "      <td>0.0</td>\n",
       "      <td>5.0</td>\n",
       "      <td>2012-10-25 17:00:00</td>\n",
       "      <td>Great for HS lunch</td>\n",
       "      <td>Great for HS lunch, kid enjoy as a snack also,...</td>\n",
       "      <td>17</td>\n",
       "      <td>3</td>\n",
       "      <td>299</td>\n",
       "      <td>2012</td>\n",
       "      <td>1.0</td>\n",
       "    </tr>\n",
       "  </tbody>\n",
       "</table>\n",
       "</div>"
      ],
      "text/plain": [
       "          Id   ProductId          UserId      ProfileName  \\\n",
       "56722  56723  B0012XBD7I  A32NC2UF34RJQY  D. Pagliassotti   \n",
       "\n",
       "       HelpfulnessNumerator  HelpfulnessDenominator  Score  \\\n",
       "56722                   0.0                     0.0    5.0   \n",
       "\n",
       "                     Time             Summary  \\\n",
       "56722 2012-10-25 17:00:00  Great for HS lunch   \n",
       "\n",
       "                                                    Text  Hour  Weekday  Day  \\\n",
       "56722  Great for HS lunch, kid enjoy as a snack also,...    17        3  299   \n",
       "\n",
       "       Year  Count  \n",
       "56722  2012    1.0  "
      ]
     },
     "execution_count": 32,
     "metadata": {},
     "output_type": "execute_result"
    }
   ],
   "source": [
    "cleanReviews[cleanReviews.ProductId == 'B0012XBD7I']"
   ]
  },
  {
   "cell_type": "code",
   "execution_count": 33,
   "metadata": {},
   "outputs": [
    {
     "name": "stdout",
     "output_type": "stream",
     "text": [
      "Before: (30408, 2)\n",
      "After: (28549, 2)\n"
     ]
    }
   ],
   "source": [
    "post = cleanReviews.groupby('ProductId').agg({'Count':'count'}).reset_index()\n",
    "reviews['Count'] = 1\n",
    "pre = reviews.groupby('ProductId').agg({'Count':'count'}).reset_index()\n",
    "print('Before:',pre[pre.Count == 1].shape)\n",
    "print('After:',post[post.Count == 1].shape)"
   ]
  },
  {
   "cell_type": "markdown",
   "metadata": {},
   "source": [
    "- Although we did miss a review, it looks like there are too many to fix post-removal. Ideally, we would want a pipeline that identifies products with similar reviews (95%), and then adds it into a list of lists. Then it will go through the list and combine the reviews for every record."
   ]
  },
  {
   "cell_type": "markdown",
   "metadata": {},
   "source": [
    "## 2. Let's focus on Product ID now:\n",
    "    - Look at most popular items (based on number of reviews), how does the distribution look like for reviews?\n",
    "   "
   ]
  },
  {
   "cell_type": "code",
   "execution_count": 34,
   "metadata": {},
   "outputs": [
    {
     "data": {
      "text/plain": [
       "(67770, 2)"
      ]
     },
     "execution_count": 34,
     "metadata": {},
     "output_type": "execute_result"
    }
   ],
   "source": [
    "productReviewCount = cleanReviews.groupby('ProductId').agg({'Count':'count'}).reset_index()\n",
    "productReviewCount.shape"
   ]
  },
  {
   "cell_type": "code",
   "execution_count": 35,
   "metadata": {
    "scrolled": true
   },
   "outputs": [
    {
     "data": {
      "text/plain": [
       "['B007JFMH8M',\n",
       " 'B002QWP89S',\n",
       " 'B003B3OOPA',\n",
       " 'B001EO5Q64',\n",
       " 'B0013NUGDE',\n",
       " 'B000KV61FC',\n",
       " 'B000UBD88A',\n",
       " 'B000NMJWZO',\n",
       " 'B005K4Q37A',\n",
       " 'B0090X8IPM']"
      ]
     },
     "execution_count": 35,
     "metadata": {},
     "output_type": "execute_result"
    }
   ],
   "source": [
    "top10 = productReviewCount.sort_values('Count', ascending=False).head(10).ProductId.tolist()\n",
    "top10"
   ]
  },
  {
   "cell_type": "code",
   "execution_count": 36,
   "metadata": {},
   "outputs": [
    {
     "name": "stdout",
     "output_type": "stream",
     "text": [
      "5.0    623\n",
      "4.0    217\n",
      "3.0     56\n",
      "2.0     12\n",
      "1.0      4\n",
      "Name: Score, dtype: int64\n"
     ]
    },
    {
     "data": {
      "image/png": "[encoded data removed]",
      "text/plain": [
       "<Figure size 432x288 with 1 Axes>"
      ]
     },
     "metadata": {
      "needs_background": "light"
     },
     "output_type": "display_data"
    },
    {
     "name": "stdout",
     "output_type": "stream",
     "text": [
      "5.0    497\n",
      "4.0     74\n",
      "1.0     27\n",
      "3.0     21\n",
      "2.0     12\n",
      "Name: Score, dtype: int64\n"
     ]
    },
    {
     "data": {
      "image/png": "[encoded data removed]",
      "text/plain": [
       "<Figure size 432x288 with 1 Axes>"
      ]
     },
     "metadata": {
      "needs_background": "light"
     },
     "output_type": "display_data"
    },
    {
     "name": "stdout",
     "output_type": "stream",
     "text": [
      "5.0    517\n",
      "4.0     68\n",
      "3.0     25\n",
      "2.0      8\n",
      "1.0      5\n",
      "Name: Score, dtype: int64\n"
     ]
    },
    {
     "data": {
      "image/png": "[encoded data removed]",
      "text/plain": [
       "<Figure size 432x288 with 1 Axes>"
      ]
     },
     "metadata": {
      "needs_background": "light"
     },
     "output_type": "display_data"
    },
    {
     "name": "stdout",
     "output_type": "stream",
     "text": [
      "5.0    474\n",
      "4.0     65\n",
      "3.0     15\n",
      "1.0     10\n",
      "2.0      3\n",
      "Name: Score, dtype: int64\n"
     ]
    },
    {
     "data": {
      "image/png": "[encoded data removed]",
      "text/plain": [
       "<Figure size 432x288 with 1 Axes>"
      ]
     },
     "metadata": {
      "needs_background": "light"
     },
     "output_type": "display_data"
    },
    {
     "name": "stdout",
     "output_type": "stream",
     "text": [
      "5.0    368\n",
      "4.0     90\n",
      "3.0     46\n",
      "1.0     29\n",
      "2.0     29\n",
      "Name: Score, dtype: int64\n"
     ]
    },
    {
     "data": {
      "image/png": "[encoded data removed]",
      "text/plain": [
       "<Figure size 432x288 with 1 Axes>"
      ]
     },
     "metadata": {
      "needs_background": "light"
     },
     "output_type": "display_data"
    },
    {
     "name": "stdout",
     "output_type": "stream",
     "text": [
      "5.0    197\n",
      "3.0    101\n",
      "4.0     91\n",
      "1.0     89\n",
      "2.0     78\n",
      "Name: Score, dtype: int64\n"
     ]
    },
    {
     "data": {
      "image/png": "[encoded data removed]",
      "text/plain": [
       "<Figure size 432x288 with 1 Axes>"
      ]
     },
     "metadata": {
      "needs_background": "light"
     },
     "output_type": "display_data"
    },
    {
     "name": "stdout",
     "output_type": "stream",
     "text": [
      "5.0    364\n",
      "4.0     87\n",
      "3.0     37\n",
      "1.0     33\n",
      "2.0     21\n",
      "Name: Score, dtype: int64\n"
     ]
    },
    {
     "data": {
      "image/png": "[encoded data removed]",
      "text/plain": [
       "<Figure size 432x288 with 1 Axes>"
      ]
     },
     "metadata": {
      "needs_background": "light"
     },
     "output_type": "display_data"
    },
    {
     "name": "stdout",
     "output_type": "stream",
     "text": [
      "5.0    502\n",
      "4.0     25\n",
      "3.0      9\n",
      "2.0      3\n",
      "1.0      3\n",
      "Name: Score, dtype: int64\n"
     ]
    },
    {
     "data": {
      "image/png": "[encoded data removed]",
      "text/plain": [
       "<Figure size 432x288 with 1 Axes>"
      ]
     },
     "metadata": {
      "needs_background": "light"
     },
     "output_type": "display_data"
    },
    {
     "name": "stdout",
     "output_type": "stream",
     "text": [
      "5.0    308\n",
      "1.0     96\n",
      "4.0     65\n",
      "2.0     45\n",
      "3.0     28\n",
      "Name: Score, dtype: int64\n"
     ]
    },
    {
     "data": {
      "image/png": "[encoded data removed]",
      "text/plain": [
       "<Figure size 432x288 with 1 Axes>"
      ]
     },
     "metadata": {
      "needs_background": "light"
     },
     "output_type": "display_data"
    },
    {
     "name": "stdout",
     "output_type": "stream",
     "text": [
      "4.0    192\n",
      "5.0    164\n",
      "3.0    111\n",
      "2.0     37\n",
      "1.0     26\n",
      "Name: Score, dtype: int64\n"
     ]
    },
    {
     "data": {
      "image/png": "[encoded data removed]",
      "text/plain": [
       "<Figure size 432x288 with 1 Axes>"
      ]
     },
     "metadata": {
      "needs_background": "light"
     },
     "output_type": "display_data"
    }
   ],
   "source": [
    "for i in top10:\n",
    "    x = cleanReviews[cleanReviews['ProductId'] == i].Score\n",
    "    print(x.value_counts())\n",
    "    freqs = frequencies(x)\n",
    "    probs = probabilities(x, freqs)\n",
    "    x_axis = list(set(x))\n",
    "    \n",
    "    plt.bar(x_axis, probs)\n",
    "    plt.show()"
   ]
  },
  {
   "cell_type": "markdown",
   "metadata": {},
   "source": [
    "#### Good news, it looks like our top 10 reviews are all unique distributions (unlike the previous situation with duplicate products)."
   ]
  },
  {
   "cell_type": "code",
   "execution_count": 37,
   "metadata": {},
   "outputs": [
    {
     "data": {
      "text/plain": [
       "Index(['Id', 'ProductId', 'UserId', 'ProfileName', 'HelpfulnessNumerator',\n",
       "       'HelpfulnessDenominator', 'Score', 'Time', 'Summary', 'Text', 'Hour',\n",
       "       'Weekday', 'Day', 'Year', 'Count'],\n",
       "      dtype='object')"
      ]
     },
     "execution_count": 37,
     "metadata": {},
     "output_type": "execute_result"
    }
   ],
   "source": [
    "cleanReviews.columns"
   ]
  },
  {
   "cell_type": "code",
   "execution_count": 38,
   "metadata": {},
   "outputs": [],
   "source": [
    "potential_dupes = ['B001BCVY4W', 'B001BCVY9W', 'B001BCXTGS', 'B001BDDT8K', 'B001BDDTB2']\n"
   ]
  },
  {
   "cell_type": "markdown",
   "metadata": {},
   "source": [
    "### Done with taking care of duplicates!\n",
    "Why was this an issue?\n",
    "    - If we want a model to best predict score, it will need to take consideration the productId. If multiple productIds consist of the same reviews, then the model will decrease the weight the productId has on our prediction.\n",
    "    - However, if we want to simply look at sentiment analysis, then we can essentially only focus on the review Text/Summary and the Score."
   ]
  },
  {
   "cell_type": "markdown",
   "metadata": {},
   "source": [
    "## Word Clouds!\n",
    "### For now, let's change gears and try to use a word cloud to visualize the texts that are most helpful, and least helpful\n",
    "    - Most helpful can be defined by the highest helpfulness numerator\n",
    "    - Least helpful can be defined as the highest difference between denominator and numerator"
   ]
  },
  {
   "cell_type": "markdown",
   "metadata": {},
   "source": [
    "#### Steps:\n",
    "    1. Find the most helpful review\n",
    "    2. Find the least helpful review"
   ]
  },
  {
   "cell_type": "code",
   "execution_count": 39,
   "metadata": {},
   "outputs": [
    {
     "data": {
      "text/html": [
       "<div>\n",
       "<style scoped>\n",
       "    .dataframe tbody tr th:only-of-type {\n",
       "        vertical-align: middle;\n",
       "    }\n",
       "\n",
       "    .dataframe tbody tr th {\n",
       "        vertical-align: top;\n",
       "    }\n",
       "\n",
       "    .dataframe thead th {\n",
       "        text-align: right;\n",
       "    }\n",
       "</style>\n",
       "<table border=\"1\" class=\"dataframe\">\n",
       "  <thead>\n",
       "    <tr style=\"text-align: right;\">\n",
       "      <th></th>\n",
       "      <th>Id</th>\n",
       "      <th>ProductId</th>\n",
       "      <th>UserId</th>\n",
       "      <th>ProfileName</th>\n",
       "      <th>HelpfulnessNumerator</th>\n",
       "      <th>HelpfulnessDenominator</th>\n",
       "      <th>Score</th>\n",
       "      <th>Time</th>\n",
       "      <th>Summary</th>\n",
       "      <th>Text</th>\n",
       "      <th>Hour</th>\n",
       "      <th>Weekday</th>\n",
       "      <th>Day</th>\n",
       "      <th>Year</th>\n",
       "      <th>Count</th>\n",
       "    </tr>\n",
       "  </thead>\n",
       "  <tbody>\n",
       "    <tr>\n",
       "      <th>190733</th>\n",
       "      <td>190734</td>\n",
       "      <td>B000FI4O90</td>\n",
       "      <td>A1GQGYROVZVW49</td>\n",
       "      <td>P. Schmidt</td>\n",
       "      <td>866</td>\n",
       "      <td>878</td>\n",
       "      <td>5</td>\n",
       "      <td>2006-11-27 16:00:00</td>\n",
       "      <td>Works as Advertised - Classy Product</td>\n",
       "      <td>see update at end of review&lt;br /&gt;&lt;br /&gt;*******...</td>\n",
       "      <td>16</td>\n",
       "      <td>0</td>\n",
       "      <td>331</td>\n",
       "      <td>2006</td>\n",
       "      <td>1</td>\n",
       "    </tr>\n",
       "  </tbody>\n",
       "</table>\n",
       "</div>"
      ],
      "text/plain": [
       "            Id   ProductId          UserId ProfileName  HelpfulnessNumerator  \\\n",
       "190733  190734  B000FI4O90  A1GQGYROVZVW49  P. Schmidt                   866   \n",
       "\n",
       "        HelpfulnessDenominator  Score                Time  \\\n",
       "190733                     878      5 2006-11-27 16:00:00   \n",
       "\n",
       "                                     Summary  \\\n",
       "190733  Works as Advertised - Classy Product   \n",
       "\n",
       "                                                     Text  Hour  Weekday  Day  \\\n",
       "190733  see update at end of review<br /><br />*******...    16        0  331   \n",
       "\n",
       "        Year  Count  \n",
       "190733  2006      1  "
      ]
     },
     "execution_count": 39,
     "metadata": {},
     "output_type": "execute_result"
    }
   ],
   "source": [
    "# Most helpful review search. Using original df as this is purely visual\n",
    "mostHelpful = reviews.sort_values('HelpfulnessNumerator', ascending=False).head(1)\n",
    "mostHelpful\n",
    "# Most helpful review is by User: A1GQGYROVZVW49 for Product: B000FI4O90 with HelpfulnessNumerator: 866.0"
   ]
  },
  {
   "cell_type": "code",
   "execution_count": 40,
   "metadata": {},
   "outputs": [
    {
     "data": {
      "text/plain": [
       "Id                                                                   190406\n",
       "ProductId                                                        B000EZQTD8\n",
       "UserId                                                       A2ITVLVBU8XO8M\n",
       "ProfileName                                                   Thomas O Kuhn\n",
       "HelpfulnessNumerator                                                      0\n",
       "HelpfulnessDenominator                                                    0\n",
       "Score                                                                     1\n",
       "Time                                                    2011-11-19 16:00:00\n",
       "Summary                                                    Gristle abounds!\n",
       "Text                      This jerky has more gristle than I thought was...\n",
       "Hour                                                                     16\n",
       "Weekday                                                                   5\n",
       "Day                                                                     323\n",
       "Year                                                                   2011\n",
       "Count                                                                     1\n",
       "Name: 190405, dtype: object"
      ]
     },
     "execution_count": 40,
     "metadata": {},
     "output_type": "execute_result"
    }
   ],
   "source": [
    "reviews.iloc[190405]"
   ]
  },
  {
   "cell_type": "code",
   "execution_count": 41,
   "metadata": {},
   "outputs": [],
   "source": [
    "reviews['HelpfulDiff'] = reviews['HelpfulnessDenominator'] - reviews['HelpfulnessNumerator']"
   ]
  },
  {
   "cell_type": "code",
   "execution_count": 42,
   "metadata": {},
   "outputs": [
    {
     "data": {
      "text/html": [
       "<div>\n",
       "<style scoped>\n",
       "    .dataframe tbody tr th:only-of-type {\n",
       "        vertical-align: middle;\n",
       "    }\n",
       "\n",
       "    .dataframe tbody tr th {\n",
       "        vertical-align: top;\n",
       "    }\n",
       "\n",
       "    .dataframe thead th {\n",
       "        text-align: right;\n",
       "    }\n",
       "</style>\n",
       "<table border=\"1\" class=\"dataframe\">\n",
       "  <thead>\n",
       "    <tr style=\"text-align: right;\">\n",
       "      <th></th>\n",
       "      <th>Id</th>\n",
       "      <th>ProductId</th>\n",
       "      <th>UserId</th>\n",
       "      <th>ProfileName</th>\n",
       "      <th>HelpfulnessNumerator</th>\n",
       "      <th>HelpfulnessDenominator</th>\n",
       "      <th>Score</th>\n",
       "      <th>Time</th>\n",
       "      <th>Summary</th>\n",
       "      <th>Text</th>\n",
       "      <th>Hour</th>\n",
       "      <th>Weekday</th>\n",
       "      <th>Day</th>\n",
       "      <th>Year</th>\n",
       "      <th>Count</th>\n",
       "      <th>HelpfulDiff</th>\n",
       "    </tr>\n",
       "  </thead>\n",
       "  <tbody>\n",
       "    <tr>\n",
       "      <th>470626</th>\n",
       "      <td>470627</td>\n",
       "      <td>B001LUM1ZU</td>\n",
       "      <td>A1H6VW0W3UIK0K</td>\n",
       "      <td>Tyler Durden \"The first rule of amazon.com is...</td>\n",
       "      <td>5</td>\n",
       "      <td>145</td>\n",
       "      <td>1</td>\n",
       "      <td>2009-05-28 17:00:00</td>\n",
       "      <td>Should be illegal...</td>\n",
       "      <td>As if mayonnaise wasn't unhealthy enough for y...</td>\n",
       "      <td>17</td>\n",
       "      <td>3</td>\n",
       "      <td>148</td>\n",
       "      <td>2009</td>\n",
       "      <td>1</td>\n",
       "      <td>140</td>\n",
       "    </tr>\n",
       "  </tbody>\n",
       "</table>\n",
       "</div>"
      ],
      "text/plain": [
       "            Id   ProductId          UserId  \\\n",
       "470626  470627  B001LUM1ZU  A1H6VW0W3UIK0K   \n",
       "\n",
       "                                             ProfileName  \\\n",
       "470626  Tyler Durden \"The first rule of amazon.com is...   \n",
       "\n",
       "        HelpfulnessNumerator  HelpfulnessDenominator  Score  \\\n",
       "470626                     5                     145      1   \n",
       "\n",
       "                      Time               Summary  \\\n",
       "470626 2009-05-28 17:00:00  Should be illegal...   \n",
       "\n",
       "                                                     Text  Hour  Weekday  Day  \\\n",
       "470626  As if mayonnaise wasn't unhealthy enough for y...    17        3  148   \n",
       "\n",
       "        Year  Count  HelpfulDiff  \n",
       "470626  2009      1          140  "
      ]
     },
     "execution_count": 42,
     "metadata": {},
     "output_type": "execute_result"
    }
   ],
   "source": [
    "leastHelpful = reviews.sort_values('HelpfulDiff', ascending=False).head(1)\n",
    "leastHelpful\n",
    "# Least helpful review is by User: A1H6VW0W3UIK0K for Product: B001LUM1ZU with HelpfulDiff: 140.0"
   ]
  },
  {
   "cell_type": "code",
   "execution_count": 43,
   "metadata": {},
   "outputs": [],
   "source": [
    "def cleanhtml(raw_html):\n",
    "    cleanr = re.compile('<.*?>')\n",
    "    cleantext = re.sub(cleanr, '', raw_html)\n",
    "    return cleantext\n",
    "cleanReviews.Text = cleanReviews.Text.apply(cleanhtml)"
   ]
  },
  {
   "cell_type": "code",
   "execution_count": 44,
   "metadata": {},
   "outputs": [
    {
     "data": {
      "image/png": "[encoded data removed]",
      "text/plain": [
       "<Figure size 432x288 with 1 Axes>"
      ]
     },
     "metadata": {
      "needs_background": "light"
     },
     "output_type": "display_data"
    }
   ],
   "source": [
    "# MOST HELPFUL REVIEW\n",
    "\n",
    "ID = mostHelpful.Id\n",
    "\n",
    "text = cleanReviews.Text[int(ID-1)]\n",
    "# Create and generate a word cloud image:\n",
    "wordcloud = WordCloud(background_color=\"white\").generate(text)\n",
    "\n",
    "\n",
    "# Display the generated image:\n",
    "plt.imshow(wordcloud, interpolation='bilinear')\n",
    "plt.axis(\"off\")\n",
    "plt.show()"
   ]
  },
  {
   "cell_type": "code",
   "execution_count": 45,
   "metadata": {
    "scrolled": false
   },
   "outputs": [
    {
     "name": "stdout",
     "output_type": "stream",
     "text": [
      "see update at end of review******************I was lamenting about only having frech lettuce, herbs, chives, and tomatoes from may garden during the long fall-winter-spring parts of the year. The refrigerated stuff from the grocery store goes bad right away and does not taste as good as the fresh stuff from the garden, either.Then I saw a Time Magazine page on the new AeroGrow AeroGarden, and I just had to try it out. After reading the AeroGrow website before making the purchase, I realized that buying one garden would not work for me, as the tomatoes cannot be grown in the same garden as lettuce & herbs. This is partially due to the large amount of room taken up by the tomatoes, and also because the lamp/watering cycle is different and finally because the nutrients are different.So, I bought two gardens, along with the Salad Greens seed kit and Cherry Tomato seed kit. Each garden comes with a mixed herb kit, so I figured to mix in a few herbs with the other seeds, and if they did not work, no big loss.The products came quickly and the instructions for assembly were very clear and well written with excellent diagrams. I came to realize that this somewhat pricey product at least comes from a company that produces a classy product (a rare thing these days). I found a space on a shelf beside the basement stairs, and placed both assembled gardens there. I also bought and placed a digital thermometer with maximum/minimum temperature memory readouts ($10 at Radio Shack), because I was unsure of what temperature extremes the plants might experience in that location (68-72 as it turns out).The seed kits contain pre-seeded planting pods. Each pod is basically a plastic cup shaped frame with two pieces of foam rubber inside the cup part, like two slices of bread with the seeds sandwiched between them. They simply insert into the seven holes in the top of the garden's water tank. The Salad Greens and Herbs come with seven pods per kit, while the Tomatos come with three pods plus four hole plugs-the plants are bigger so three of them take up thw whole space available. The hole plugs prevent evaporation of the water through the unoccupied holes.The water tank holds exactly one gallon of regular drinking water. Well water is not recommended, presumably because of impurities, and since I am on a well I bought two one-gallon plastic jugs of 'drinking water' at the store for 50 cents each and filled the tanks with their contents. A pump in the tank takes water and pipes it to the rim of each of the seven holes in the tank's top, and here the trickle of water flows into the foam sandwich of each seed pod. The foam stays moist and the rest of the water drips back down into the tank. The garden's 'computer' cycles the water flow on and off according to the amount recommended for the type of plant being grown. A water level sensor turns on a flashing red light when it is time to add more water to the tank.The top of the garden is a reflector with two compact-fluorescent lamps, of the variety that has the special ultraviolet (UV) coating that causes the emmitted light to resemble sunlight. The reflector rides on a vertical pole that extends up from the garden's base, so you can raise and lower the lamps as required to keep them the correct distance above the plants. The garden's 'computer' also turns the lamps on and off according to a schedule tailored to the type of plant. If using the gardens in a place where the light might be a problem at night, you can syncronize the computer so that the lights are on only during the daytime and off when you are trying to sleep.The seed kits come with little clear plastic cups that cover each pod until the seeds have germinated, then you can dispose of them. The kits also come with a bag of nutrient tablets, which you add to the water tank when the computer prompts you to by flashing a red light. The nutrients are tailored to the type of plant being grown, and there are enough of them to feed the plants during their anticipated life span.I planted one garden with five salad green (leaf lettuce) pods, plus one pod each from the Herb kit, chives and parsley. The other garden got the threee pods from the Cherry Tomato kit; two reds and one yellow variety.Each seed pod has a label that tells you how many days to wait for plants to appear after germination. All of my plants appeared like clockwork.I have had the gardens for about six weeks now, and have been enjoying salads containing lettuce, parsley and chives plus other odds and ends from the fridge, for the last two or three weeks. The lettuce and herbs are all beautiful, with no problems from bugs or too much/too little water, excessive temperatures, etc. No need to wash the plants or check for bugs or pick off bad spots, everything goes straight to the salad bowl. What a joy! Even with only five lettuce plants, I have to eat two meals including salad each day to keep up with the growth. This would easily feed two people, and if all seven salad green pods had been used, three people.The tomatoes are all doing well ahnd have been pruned according to instructions. It will be some time yet before they produce flowers, and then fruit. But based on the health of the plants, I expect a good yield.Each seed kit comes with a full color manual/booklet that covers all aspects of 'planting', germinating, feeding, pruning (if required) and then harvesting the plants. There are also photos of plants where things have gone wrong (leaves burned because the lamps were not raised up as the plants grew taller, etc) with clear instructions on how to recognize problems and correct them. Harvesting instructions clearly tell how much can be taken at a time without killing the plant, and so on.The AeroGrow gardens are a well designed, well built product with excellent documentation. All my visitors are amazed at how well the product works, and many have gone out and bought their own. I anticipate years of improved eating because of this product.*****************Update November 2007I used my two gardens all Winter (2006/2007) until it was time to start getting produce from my real (outdoor) garden in the Summer, at which time I put the little gardens to rest for the season. During their use, I got a large crop of cherry tomatoes, all of which were beautiful. I went through on crop of lettuce and salad greens, and when the lettuce finally bolted, I replanted with only lettuce (no chives, etc this time) and got another couple of months worth of lettuce. I have now fired them up again in the Fall, and have nice little plants popping up. Aerogrow has more seed options available now, so I have planted a more interesting kind of lettuce.\n"
     ]
    }
   ],
   "source": [
    "print(text)"
   ]
  },
  {
   "cell_type": "code",
   "execution_count": 46,
   "metadata": {},
   "outputs": [
    {
     "data": {
      "image/png": "[encoded data removed]",
      "text/plain": [
       "<Figure size 432x288 with 1 Axes>"
      ]
     },
     "metadata": {
      "needs_background": "light"
     },
     "output_type": "display_data"
    }
   ],
   "source": [
    "#LEAST HELPFUL WORDCLOUD\n",
    "\n",
    "ID = leastHelpful.Id\n",
    "\n",
    "text = cleanReviews.Text[int(ID-1)]\n",
    "# Create and generate a word cloud image:\n",
    "wordcloud = WordCloud(background_color=\"white\").generate(text)\n",
    "\n",
    "\n",
    "# Display the generated image:\n",
    "plt.imshow(wordcloud, interpolation='bilinear')\n",
    "plt.axis(\"off\")\n",
    "plt.show()"
   ]
  },
  {
   "cell_type": "markdown",
   "metadata": {},
   "source": [
    "Now, let's combine all 5 star reviews and all 1 star reviews and compare"
   ]
  },
  {
   "cell_type": "code",
   "execution_count": 47,
   "metadata": {},
   "outputs": [
    {
     "name": "stdout",
     "output_type": "stream",
     "text": [
      "There are 99553699 words in the combination of 5-star reviews.\n"
     ]
    }
   ],
   "source": [
    "fiveStarText = \" \".join(review for review in cleanReviews[cleanReviews['Score'] == 5.0].Text)\n",
    "print (\"There are {} words in the combination of 5-star reviews.\".format(len(fiveStarText)))"
   ]
  },
  {
   "cell_type": "code",
   "execution_count": 48,
   "metadata": {},
   "outputs": [
    {
     "data": {
      "image/png": "[encoded data removed]",
      "text/plain": [
       "<Figure size 432x288 with 1 Axes>"
      ]
     },
     "metadata": {
      "needs_background": "light"
     },
     "output_type": "display_data"
    }
   ],
   "source": [
    "# Generate a word cloud image\n",
    "wordcloud = WordCloud(background_color=\"white\").generate(fiveStarText)\n",
    "\n",
    "# Display the generated image:\n",
    "# the matplotlib way:\n",
    "plt.imshow(wordcloud, interpolation='bilinear')\n",
    "plt.axis(\"off\")\n",
    "plt.show()"
   ]
  },
  {
   "cell_type": "code",
   "execution_count": 49,
   "metadata": {},
   "outputs": [
    {
     "name": "stdout",
     "output_type": "stream",
     "text": [
      "There are 16292397 words in the combination of 1-star reviews.\n"
     ]
    }
   ],
   "source": [
    "oneStarText = \" \".join(review for review in cleanReviews[cleanReviews['Score'] == 1.0].Text)\n",
    "print (\"There are {} words in the combination of 1-star reviews.\".format(len(oneStarText)))"
   ]
  },
  {
   "cell_type": "code",
   "execution_count": 50,
   "metadata": {
    "scrolled": true
   },
   "outputs": [
    {
     "data": {
      "image/png": "[encoded data removed]",
      "text/plain": [
       "<Figure size 432x288 with 1 Axes>"
      ]
     },
     "metadata": {
      "needs_background": "light"
     },
     "output_type": "display_data"
    }
   ],
   "source": [
    "# Generate a word cloud image\n",
    "wordcloud = WordCloud(background_color=\"white\").generate(oneStarText)\n",
    "\n",
    "# Display the generated image:\n",
    "# the matplotlib way:\n",
    "plt.imshow(wordcloud, interpolation='bilinear')\n",
    "plt.axis(\"off\")\n",
    "plt.show()"
   ]
  },
  {
   "cell_type": "markdown",
   "metadata": {},
   "source": [
    "# Note to future self: You have finished going through and cleaning up the past 2 weeks of code. Next:\n",
    "1. let us explore \"Controversial helpfulness\"\n",
    "2. incorporating Michael's great graphs\n",
    "3. looking further into some trends with Qianti's data (Mean of product reviews over certain years to see if there is a trend)\n",
    "4. Peer Code Review (comments in the Code Review file)\n",
    "5. Build a sample prototype for sentiment analysis\n",
    "    - Input: a review/summary/both from the dataset\n",
    "    - Output: Binary sentimental results --- positive/negative\n",
    "    - Compare the model results with actual ratings \n",
    "6. Consider neutral reviews (and how we should handle them).\n",
    "7. Summarize findings/insights in the Insights on Dataset"
   ]
  },
  {
   "cell_type": "markdown",
   "metadata": {},
   "source": [
    "# Sentiment Analysis - following https://stackabuse.com/python-for-nlp-sentiment-analysis-with-scikit-learn/\n",
    "1. Associate Positive, Negative, and Neutral Reviews\n",
    "2. Cleaning data"
   ]
  },
  {
   "cell_type": "code",
   "execution_count": 51,
   "metadata": {},
   "outputs": [],
   "source": [
    "Sentiment_data = cleanReviews[['Text','Score']] # [[]] double brackets returns a dataframe instead of a series\n",
    "# could also use to_frame()"
   ]
  },
  {
   "cell_type": "code",
   "execution_count": 52,
   "metadata": {},
   "outputs": [
    {
     "data": {
      "text/html": [
       "<div>\n",
       "<style scoped>\n",
       "    .dataframe tbody tr th:only-of-type {\n",
       "        vertical-align: middle;\n",
       "    }\n",
       "\n",
       "    .dataframe tbody tr th {\n",
       "        vertical-align: top;\n",
       "    }\n",
       "\n",
       "    .dataframe thead th {\n",
       "        text-align: right;\n",
       "    }\n",
       "</style>\n",
       "<table border=\"1\" class=\"dataframe\">\n",
       "  <thead>\n",
       "    <tr style=\"text-align: right;\">\n",
       "      <th></th>\n",
       "      <th>Text</th>\n",
       "      <th>Score</th>\n",
       "    </tr>\n",
       "  </thead>\n",
       "  <tbody>\n",
       "    <tr>\n",
       "      <th>0</th>\n",
       "      <td>I have bought several of the Vitality canned d...</td>\n",
       "      <td>5.0</td>\n",
       "    </tr>\n",
       "    <tr>\n",
       "      <th>1</th>\n",
       "      <td>Product arrived labeled as Jumbo Salted Peanut...</td>\n",
       "      <td>1.0</td>\n",
       "    </tr>\n",
       "    <tr>\n",
       "      <th>2</th>\n",
       "      <td>This is a confection that has been around a fe...</td>\n",
       "      <td>4.0</td>\n",
       "    </tr>\n",
       "  </tbody>\n",
       "</table>\n",
       "</div>"
      ],
      "text/plain": [
       "                                                Text  Score\n",
       "0  I have bought several of the Vitality canned d...    5.0\n",
       "1  Product arrived labeled as Jumbo Salted Peanut...    1.0\n",
       "2  This is a confection that has been around a fe...    4.0"
      ]
     },
     "execution_count": 52,
     "metadata": {},
     "output_type": "execute_result"
    }
   ],
   "source": [
    "Sentiment_data.head(3)"
   ]
  },
  {
   "cell_type": "code",
   "execution_count": 53,
   "metadata": {},
   "outputs": [
    {
     "name": "stderr",
     "output_type": "stream",
     "text": [
      "/Users/nicolasdecavel/opt/anaconda3/envs/amazon/lib/python3.7/site-packages/ipykernel_launcher.py:6: SettingWithCopyWarning: \n",
      "A value is trying to be set on a copy of a slice from a DataFrame.\n",
      "Try using .loc[row_indexer,col_indexer] = value instead\n",
      "\n",
      "See the caveats in the documentation: https://pandas.pydata.org/pandas-docs/stable/user_guide/indexing.html#returning-a-view-versus-a-copy\n",
      "  \n"
     ]
    }
   ],
   "source": [
    "conditions = [\n",
    "    (Sentiment_data['Score'] > 3),\n",
    "    (Sentiment_data['Score'] == 3),\n",
    "    (Sentiment_data['Score'] < 3)]\n",
    "choices = ['Positive', 'Neutral', 'Negative']\n",
    "Sentiment_data['Sentiment'] = np.select(conditions, choices)"
   ]
  },
  {
   "cell_type": "code",
   "execution_count": 54,
   "metadata": {},
   "outputs": [
    {
     "data": {
      "text/html": [
       "<div>\n",
       "<style scoped>\n",
       "    .dataframe tbody tr th:only-of-type {\n",
       "        vertical-align: middle;\n",
       "    }\n",
       "\n",
       "    .dataframe tbody tr th {\n",
       "        vertical-align: top;\n",
       "    }\n",
       "\n",
       "    .dataframe thead th {\n",
       "        text-align: right;\n",
       "    }\n",
       "</style>\n",
       "<table border=\"1\" class=\"dataframe\">\n",
       "  <thead>\n",
       "    <tr style=\"text-align: right;\">\n",
       "      <th></th>\n",
       "      <th>Text</th>\n",
       "      <th>Score</th>\n",
       "      <th>Sentiment</th>\n",
       "    </tr>\n",
       "  </thead>\n",
       "  <tbody>\n",
       "    <tr>\n",
       "      <th>0</th>\n",
       "      <td>I have bought several of the Vitality canned d...</td>\n",
       "      <td>5.0</td>\n",
       "      <td>Positive</td>\n",
       "    </tr>\n",
       "    <tr>\n",
       "      <th>1</th>\n",
       "      <td>Product arrived labeled as Jumbo Salted Peanut...</td>\n",
       "      <td>1.0</td>\n",
       "      <td>Negative</td>\n",
       "    </tr>\n",
       "    <tr>\n",
       "      <th>2</th>\n",
       "      <td>This is a confection that has been around a fe...</td>\n",
       "      <td>4.0</td>\n",
       "      <td>Positive</td>\n",
       "    </tr>\n",
       "    <tr>\n",
       "      <th>3</th>\n",
       "      <td>If you are looking for the secret ingredient i...</td>\n",
       "      <td>2.0</td>\n",
       "      <td>Negative</td>\n",
       "    </tr>\n",
       "    <tr>\n",
       "      <th>4</th>\n",
       "      <td>Great taffy at a great price.  There was a wid...</td>\n",
       "      <td>5.0</td>\n",
       "      <td>Positive</td>\n",
       "    </tr>\n",
       "  </tbody>\n",
       "</table>\n",
       "</div>"
      ],
      "text/plain": [
       "                                                Text  Score Sentiment\n",
       "0  I have bought several of the Vitality canned d...    5.0  Positive\n",
       "1  Product arrived labeled as Jumbo Salted Peanut...    1.0  Negative\n",
       "2  This is a confection that has been around a fe...    4.0  Positive\n",
       "3  If you are looking for the secret ingredient i...    2.0  Negative\n",
       "4  Great taffy at a great price.  There was a wid...    5.0  Positive"
      ]
     },
     "execution_count": 54,
     "metadata": {},
     "output_type": "execute_result"
    }
   ],
   "source": [
    "Sentiment_data.head(5)"
   ]
  },
  {
   "cell_type": "code",
   "execution_count": 55,
   "metadata": {},
   "outputs": [],
   "source": [
    "Sentiment_data1 = pd.concat([Sentiment_data, pd.get_dummies(Sentiment_data.Sentiment)], axis=1, sort=False)"
   ]
  },
  {
   "cell_type": "code",
   "execution_count": 56,
   "metadata": {},
   "outputs": [
    {
     "data": {
      "text/html": [
       "<div>\n",
       "<style scoped>\n",
       "    .dataframe tbody tr th:only-of-type {\n",
       "        vertical-align: middle;\n",
       "    }\n",
       "\n",
       "    .dataframe tbody tr th {\n",
       "        vertical-align: top;\n",
       "    }\n",
       "\n",
       "    .dataframe thead th {\n",
       "        text-align: right;\n",
       "    }\n",
       "</style>\n",
       "<table border=\"1\" class=\"dataframe\">\n",
       "  <thead>\n",
       "    <tr style=\"text-align: right;\">\n",
       "      <th></th>\n",
       "      <th>Text</th>\n",
       "      <th>Score</th>\n",
       "      <th>Sentiment</th>\n",
       "      <th>0</th>\n",
       "      <th>Negative</th>\n",
       "      <th>Neutral</th>\n",
       "      <th>Positive</th>\n",
       "    </tr>\n",
       "  </thead>\n",
       "  <tbody>\n",
       "    <tr>\n",
       "      <th>0</th>\n",
       "      <td>I have bought several of the Vitality canned d...</td>\n",
       "      <td>5.0</td>\n",
       "      <td>Positive</td>\n",
       "      <td>0</td>\n",
       "      <td>0</td>\n",
       "      <td>0</td>\n",
       "      <td>1</td>\n",
       "    </tr>\n",
       "    <tr>\n",
       "      <th>1</th>\n",
       "      <td>Product arrived labeled as Jumbo Salted Peanut...</td>\n",
       "      <td>1.0</td>\n",
       "      <td>Negative</td>\n",
       "      <td>0</td>\n",
       "      <td>1</td>\n",
       "      <td>0</td>\n",
       "      <td>0</td>\n",
       "    </tr>\n",
       "    <tr>\n",
       "      <th>2</th>\n",
       "      <td>This is a confection that has been around a fe...</td>\n",
       "      <td>4.0</td>\n",
       "      <td>Positive</td>\n",
       "      <td>0</td>\n",
       "      <td>0</td>\n",
       "      <td>0</td>\n",
       "      <td>1</td>\n",
       "    </tr>\n",
       "    <tr>\n",
       "      <th>3</th>\n",
       "      <td>If you are looking for the secret ingredient i...</td>\n",
       "      <td>2.0</td>\n",
       "      <td>Negative</td>\n",
       "      <td>0</td>\n",
       "      <td>1</td>\n",
       "      <td>0</td>\n",
       "      <td>0</td>\n",
       "    </tr>\n",
       "    <tr>\n",
       "      <th>4</th>\n",
       "      <td>Great taffy at a great price.  There was a wid...</td>\n",
       "      <td>5.0</td>\n",
       "      <td>Positive</td>\n",
       "      <td>0</td>\n",
       "      <td>0</td>\n",
       "      <td>0</td>\n",
       "      <td>1</td>\n",
       "    </tr>\n",
       "  </tbody>\n",
       "</table>\n",
       "</div>"
      ],
      "text/plain": [
       "                                                Text  Score Sentiment  0  \\\n",
       "0  I have bought several of the Vitality canned d...    5.0  Positive  0   \n",
       "1  Product arrived labeled as Jumbo Salted Peanut...    1.0  Negative  0   \n",
       "2  This is a confection that has been around a fe...    4.0  Positive  0   \n",
       "3  If you are looking for the secret ingredient i...    2.0  Negative  0   \n",
       "4  Great taffy at a great price.  There was a wid...    5.0  Positive  0   \n",
       "\n",
       "   Negative  Neutral  Positive  \n",
       "0         0        0         1  \n",
       "1         1        0         0  \n",
       "2         0        0         1  \n",
       "3         1        0         0  \n",
       "4         0        0         1  "
      ]
     },
     "execution_count": 56,
     "metadata": {},
     "output_type": "execute_result"
    }
   ],
   "source": [
    "Sentiment_data1.head(5)"
   ]
  },
  {
   "cell_type": "code",
   "execution_count": 57,
   "metadata": {},
   "outputs": [
    {
     "data": {
      "text/plain": [
       "<matplotlib.axes._subplots.AxesSubplot at 0x1a2ea77dd0>"
      ]
     },
     "execution_count": 57,
     "metadata": {},
     "output_type": "execute_result"
    },
    {
     "data": {
      "image/png": "[encoded data removed]",
      "text/plain": [
       "<Figure size 432x288 with 1 Axes>"
      ]
     },
     "metadata": {},
     "output_type": "display_data"
    }
   ],
   "source": [
    "Sentiment_data1.Sentiment.value_counts().plot(kind='pie', autopct='%1.0f%%', colors=[\"red\", \"yellow\", \"green\"])"
   ]
  },
  {
   "cell_type": "code",
   "execution_count": 58,
   "metadata": {},
   "outputs": [
    {
     "data": {
      "text/plain": [
       "5.0    251705\n",
       "4.0     56214\n",
       "1.0     36513\n",
       "3.0     29839\n",
       "2.0     20844\n",
       "4.5         2\n",
       "Name: Score, dtype: int64"
      ]
     },
     "execution_count": 58,
     "metadata": {},
     "output_type": "execute_result"
    }
   ],
   "source": [
    "Sentiment_data1.Score.value_counts()"
   ]
  },
  {
   "cell_type": "code",
   "execution_count": 59,
   "metadata": {},
   "outputs": [
    {
     "data": {
      "text/plain": [
       "Positive    307921\n",
       "Negative     57357\n",
       "Neutral      29839\n",
       "0                3\n",
       "Name: Sentiment, dtype: int64"
      ]
     },
     "execution_count": 59,
     "metadata": {},
     "output_type": "execute_result"
    }
   ],
   "source": [
    "Sentiment_data1.Sentiment.value_counts()"
   ]
  },
  {
   "cell_type": "code",
   "execution_count": 60,
   "metadata": {},
   "outputs": [
    {
     "data": {
      "text/html": [
       "<div>\n",
       "<style scoped>\n",
       "    .dataframe tbody tr th:only-of-type {\n",
       "        vertical-align: middle;\n",
       "    }\n",
       "\n",
       "    .dataframe tbody tr th {\n",
       "        vertical-align: top;\n",
       "    }\n",
       "\n",
       "    .dataframe thead th {\n",
       "        text-align: right;\n",
       "    }\n",
       "</style>\n",
       "<table border=\"1\" class=\"dataframe\">\n",
       "  <thead>\n",
       "    <tr style=\"text-align: right;\">\n",
       "      <th></th>\n",
       "      <th>Text</th>\n",
       "      <th>Score</th>\n",
       "      <th>Sentiment</th>\n",
       "      <th>0</th>\n",
       "      <th>Negative</th>\n",
       "      <th>Neutral</th>\n",
       "      <th>Positive</th>\n",
       "    </tr>\n",
       "  </thead>\n",
       "  <tbody>\n",
       "    <tr>\n",
       "      <th>33958</th>\n",
       "      <td>I only used two maybe three tea bags and got p...</td>\n",
       "      <td>NaN</td>\n",
       "      <td>0</td>\n",
       "      <td>1</td>\n",
       "      <td>0</td>\n",
       "      <td>0</td>\n",
       "      <td>0</td>\n",
       "    </tr>\n",
       "    <tr>\n",
       "      <th>237565</th>\n",
       "      <td>This is a cool system only problem is that the...</td>\n",
       "      <td>NaN</td>\n",
       "      <td>0</td>\n",
       "      <td>1</td>\n",
       "      <td>0</td>\n",
       "      <td>0</td>\n",
       "      <td>0</td>\n",
       "    </tr>\n",
       "    <tr>\n",
       "      <th>392529</th>\n",
       "      <td>I like the product and tried it before I pucha...</td>\n",
       "      <td>NaN</td>\n",
       "      <td>0</td>\n",
       "      <td>1</td>\n",
       "      <td>0</td>\n",
       "      <td>0</td>\n",
       "      <td>0</td>\n",
       "    </tr>\n",
       "  </tbody>\n",
       "</table>\n",
       "</div>"
      ],
      "text/plain": [
       "                                                     Text  Score Sentiment  0  \\\n",
       "33958   I only used two maybe three tea bags and got p...    NaN         0  1   \n",
       "237565  This is a cool system only problem is that the...    NaN         0  1   \n",
       "392529  I like the product and tried it before I pucha...    NaN         0  1   \n",
       "\n",
       "        Negative  Neutral  Positive  \n",
       "33958          0        0         0  \n",
       "237565         0        0         0  \n",
       "392529         0        0         0  "
      ]
     },
     "execution_count": 60,
     "metadata": {},
     "output_type": "execute_result"
    }
   ],
   "source": [
    "Sentiment_data1.loc[Sentiment_data1['Sentiment'] == '0']"
   ]
  },
  {
   "cell_type": "code",
   "execution_count": 61,
   "metadata": {},
   "outputs": [
    {
     "name": "stdout",
     "output_type": "stream",
     "text": [
      "We deleted 3 entries due to NaN values\n"
     ]
    }
   ],
   "source": [
    "pre = Sentiment_data1.shape[0]\n",
    "Sentiment_data1 = Sentiment_data1[Sentiment_data1['Score'].notna()]\n",
    "post = Sentiment_data1.shape[0]\n",
    "print('We deleted', pre-post, 'entries due to NaN values')"
   ]
  },
  {
   "cell_type": "code",
   "execution_count": 62,
   "metadata": {},
   "outputs": [
    {
     "data": {
      "text/plain": [
       "<matplotlib.axes._subplots.AxesSubplot at 0x1a38faec10>"
      ]
     },
     "execution_count": 62,
     "metadata": {},
     "output_type": "execute_result"
    },
    {
     "data": {
      "image/png": "[encoded data removed]",
      "text/plain": [
       "<Figure size 432x288 with 1 Axes>"
      ]
     },
     "metadata": {},
     "output_type": "display_data"
    }
   ],
   "source": [
    "Sentiment_data1.Sentiment.value_counts().plot(kind='pie', autopct='%1.0f%%', colors=[\"red\", \"yellow\", \"green\"])"
   ]
  },
  {
   "cell_type": "code",
   "execution_count": 63,
   "metadata": {},
   "outputs": [
    {
     "name": "stdout",
     "output_type": "stream",
     "text": [
      "Positive\n",
      "I have bought several of the Vitality canned dog food products and have found them all to be of good quality. The product looks more like a stew than a processed meat and it smells better. My Labrador is finicky and she appreciates this product better than  most.\n"
     ]
    }
   ],
   "source": [
    "features = Sentiment_data1.iloc[:, 0].values\n",
    "labels = Sentiment_data1.iloc[:, 2].values\n",
    "print(labels[0])\n",
    "print(features[0])"
   ]
  },
  {
   "cell_type": "code",
   "execution_count": 64,
   "metadata": {},
   "outputs": [],
   "source": [
    "processed_features = []\n",
    "\n",
    "for sentence in range(0, len(features)):\n",
    "    # Remove all the special characters\n",
    "    processed_feature = re.sub(r'\\W', ' ', str(features[sentence]))\n",
    "\n",
    "    # remove all single characters\n",
    "    processed_feature= re.sub(r'\\s+[a-zA-Z]\\s+', ' ', processed_feature)\n",
    "\n",
    "    # Remove single characters from the start\n",
    "    processed_feature = re.sub(r'\\^[a-zA-Z]\\s+', ' ', processed_feature) \n",
    "\n",
    "    # Substituting multiple spaces with single space\n",
    "    processed_feature = re.sub(r'\\s+', ' ', processed_feature, flags=re.I)\n",
    "\n",
    "    # Removing prefixed 'b'\n",
    "    processed_feature = re.sub(r'^b\\s+', '', processed_feature)\n",
    "\n",
    "    # Converting to Lowercase\n",
    "    processed_feature = processed_feature.lower()\n",
    "\n",
    "    processed_features.append(processed_feature)"
   ]
  },
  {
   "cell_type": "code",
   "execution_count": 68,
   "metadata": {},
   "outputs": [],
   "source": [
    "from sklearn.feature_extraction.text import TfidfVectorizer\n",
    "\n",
    "vectorizer = TfidfVectorizer (max_features=2500, min_df=7, max_df=0.8)\n",
    "processed_features = vectorizer.fit_transform(processed_features).toarray()"
   ]
  },
  {
   "cell_type": "code",
   "execution_count": 69,
   "metadata": {},
   "outputs": [],
   "source": [
    "from sklearn.model_selection import train_test_split\n",
    "\n",
    "X_train, X_test, y_train, y_test = train_test_split(processed_features, labels, test_size=0.2, random_state=0)"
   ]
  },
  {
   "cell_type": "code",
   "execution_count": 70,
   "metadata": {},
   "outputs": [
    {
     "data": {
      "text/plain": [
       "RandomForestClassifier(bootstrap=True, ccp_alpha=0.0, class_weight=None,\n",
       "                       criterion='gini', max_depth=None, max_features='auto',\n",
       "                       max_leaf_nodes=None, max_samples=None,\n",
       "                       min_impurity_decrease=0.0, min_impurity_split=None,\n",
       "                       min_samples_leaf=1, min_samples_split=2,\n",
       "                       min_weight_fraction_leaf=0.0, n_estimators=200,\n",
       "                       n_jobs=None, oob_score=False, random_state=0, verbose=0,\n",
       "                       warm_start=False)"
      ]
     },
     "execution_count": 70,
     "metadata": {},
     "output_type": "execute_result"
    }
   ],
   "source": [
    "from sklearn.ensemble import RandomForestClassifier\n",
    "\n",
    "text_classifier = RandomForestClassifier(n_estimators=200, random_state=0)\n",
    "text_classifier.fit(X_train, y_train)"
   ]
  },
  {
   "cell_type": "code",
   "execution_count": 71,
   "metadata": {},
   "outputs": [],
   "source": [
    "predictions = text_classifier.predict(X_test)"
   ]
  },
  {
   "cell_type": "code",
   "execution_count": 72,
   "metadata": {},
   "outputs": [
    {
     "name": "stdout",
     "output_type": "stream",
     "text": [
      "[[ 3673    24  7672]\n",
      " [  427   108  5543]\n",
      " [  297    19 61261]]\n",
      "              precision    recall  f1-score   support\n",
      "\n",
      "    Negative       0.84      0.32      0.47     11369\n",
      "     Neutral       0.72      0.02      0.03      6078\n",
      "    Positive       0.82      0.99      0.90     61577\n",
      "\n",
      "    accuracy                           0.82     79024\n",
      "   macro avg       0.79      0.45      0.47     79024\n",
      "weighted avg       0.82      0.82      0.77     79024\n",
      "\n",
      "0.8230664102044949\n"
     ]
    }
   ],
   "source": [
    "from sklearn.metrics import classification_report, confusion_matrix, accuracy_score\n",
    "\n",
    "print(confusion_matrix(y_test,predictions))\n",
    "print(classification_report(y_test,predictions))\n",
    "print(accuracy_score(y_test, predictions))"
   ]
  },
  {
   "cell_type": "code",
   "execution_count": null,
   "metadata": {},
   "outputs": [],
   "source": [
    "# Concat summary and text\n",
    "# Helpfulness ratio * denominator"
   ]
  }
 ],
 "metadata": {
  "kernelspec": {
   "display_name": "Python 3",
   "language": "python",
   "name": "python3"
  },
  "language_info": {
   "codemirror_mode": {
    "name": "ipython",
    "version": 3
   },
   "file_extension": ".py",
   "mimetype": "text/x-python",
   "name": "python",
   "nbconvert_exporter": "python",
   "pygments_lexer": "ipython3",
   "version": "3.7.6"
  }
 },
 "nbformat": 4,
 "nbformat_minor": 2
}
